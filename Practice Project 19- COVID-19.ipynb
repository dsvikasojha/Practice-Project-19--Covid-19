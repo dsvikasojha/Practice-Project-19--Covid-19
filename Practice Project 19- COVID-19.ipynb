{
 "cells": [
  {
   "cell_type": "markdown",
   "metadata": {},
   "source": [
    "# IMPORTING LIBRARIES"
   ]
  },
  {
   "cell_type": "code",
   "execution_count": 2,
   "metadata": {},
   "outputs": [],
   "source": [
    "import pandas as pd\n",
    "import numpy as np\n",
    "import matplotlib.pyplot as plt\n",
    "import seaborn as sns\n",
    "import warnings\n",
    "warnings.filterwarnings('ignore')"
   ]
  },
  {
   "cell_type": "code",
   "execution_count": 3,
   "metadata": {},
   "outputs": [],
   "source": [
    "# Loading Dataset\n",
    "ds=pd.read_csv('aggregate_covid_country.csv')"
   ]
  },
  {
   "cell_type": "code",
   "execution_count": 4,
   "metadata": {},
   "outputs": [
    {
     "data": {
      "text/html": [
       "<div>\n",
       "<style scoped>\n",
       "    .dataframe tbody tr th:only-of-type {\n",
       "        vertical-align: middle;\n",
       "    }\n",
       "\n",
       "    .dataframe tbody tr th {\n",
       "        vertical-align: top;\n",
       "    }\n",
       "\n",
       "    .dataframe thead th {\n",
       "        text-align: right;\n",
       "    }\n",
       "</style>\n",
       "<table border=\"1\" class=\"dataframe\">\n",
       "  <thead>\n",
       "    <tr style=\"text-align: right;\">\n",
       "      <th></th>\n",
       "      <th>Date</th>\n",
       "      <th>Country</th>\n",
       "      <th>Confirmed</th>\n",
       "      <th>Recovered</th>\n",
       "      <th>Deaths</th>\n",
       "    </tr>\n",
       "  </thead>\n",
       "  <tbody>\n",
       "    <tr>\n",
       "      <th>0</th>\n",
       "      <td>2020-01-22</td>\n",
       "      <td>Afghanistan</td>\n",
       "      <td>0</td>\n",
       "      <td>0</td>\n",
       "      <td>0</td>\n",
       "    </tr>\n",
       "    <tr>\n",
       "      <th>1</th>\n",
       "      <td>2020-01-22</td>\n",
       "      <td>Albania</td>\n",
       "      <td>0</td>\n",
       "      <td>0</td>\n",
       "      <td>0</td>\n",
       "    </tr>\n",
       "    <tr>\n",
       "      <th>2</th>\n",
       "      <td>2020-01-22</td>\n",
       "      <td>Algeria</td>\n",
       "      <td>0</td>\n",
       "      <td>0</td>\n",
       "      <td>0</td>\n",
       "    </tr>\n",
       "    <tr>\n",
       "      <th>3</th>\n",
       "      <td>2020-01-22</td>\n",
       "      <td>Andorra</td>\n",
       "      <td>0</td>\n",
       "      <td>0</td>\n",
       "      <td>0</td>\n",
       "    </tr>\n",
       "    <tr>\n",
       "      <th>4</th>\n",
       "      <td>2020-01-22</td>\n",
       "      <td>Angola</td>\n",
       "      <td>0</td>\n",
       "      <td>0</td>\n",
       "      <td>0</td>\n",
       "    </tr>\n",
       "    <tr>\n",
       "      <th>5</th>\n",
       "      <td>2020-01-22</td>\n",
       "      <td>Antigua and Barbuda</td>\n",
       "      <td>0</td>\n",
       "      <td>0</td>\n",
       "      <td>0</td>\n",
       "    </tr>\n",
       "    <tr>\n",
       "      <th>6</th>\n",
       "      <td>2020-01-22</td>\n",
       "      <td>Argentina</td>\n",
       "      <td>0</td>\n",
       "      <td>0</td>\n",
       "      <td>0</td>\n",
       "    </tr>\n",
       "    <tr>\n",
       "      <th>7</th>\n",
       "      <td>2020-01-22</td>\n",
       "      <td>Armenia</td>\n",
       "      <td>0</td>\n",
       "      <td>0</td>\n",
       "      <td>0</td>\n",
       "    </tr>\n",
       "    <tr>\n",
       "      <th>8</th>\n",
       "      <td>2020-01-22</td>\n",
       "      <td>Australia</td>\n",
       "      <td>0</td>\n",
       "      <td>0</td>\n",
       "      <td>0</td>\n",
       "    </tr>\n",
       "    <tr>\n",
       "      <th>9</th>\n",
       "      <td>2020-01-22</td>\n",
       "      <td>Austria</td>\n",
       "      <td>0</td>\n",
       "      <td>0</td>\n",
       "      <td>0</td>\n",
       "    </tr>\n",
       "  </tbody>\n",
       "</table>\n",
       "</div>"
      ],
      "text/plain": [
       "         Date              Country  Confirmed  Recovered  Deaths\n",
       "0  2020-01-22          Afghanistan          0          0       0\n",
       "1  2020-01-22              Albania          0          0       0\n",
       "2  2020-01-22              Algeria          0          0       0\n",
       "3  2020-01-22              Andorra          0          0       0\n",
       "4  2020-01-22               Angola          0          0       0\n",
       "5  2020-01-22  Antigua and Barbuda          0          0       0\n",
       "6  2020-01-22            Argentina          0          0       0\n",
       "7  2020-01-22              Armenia          0          0       0\n",
       "8  2020-01-22            Australia          0          0       0\n",
       "9  2020-01-22              Austria          0          0       0"
      ]
     },
     "execution_count": 4,
     "metadata": {},
     "output_type": "execute_result"
    }
   ],
   "source": [
    "ds.head(10)"
   ]
  },
  {
   "cell_type": "code",
   "execution_count": 5,
   "metadata": {},
   "outputs": [
    {
     "data": {
      "text/html": [
       "<div>\n",
       "<style scoped>\n",
       "    .dataframe tbody tr th:only-of-type {\n",
       "        vertical-align: middle;\n",
       "    }\n",
       "\n",
       "    .dataframe tbody tr th {\n",
       "        vertical-align: top;\n",
       "    }\n",
       "\n",
       "    .dataframe thead th {\n",
       "        text-align: right;\n",
       "    }\n",
       "</style>\n",
       "<table border=\"1\" class=\"dataframe\">\n",
       "  <thead>\n",
       "    <tr style=\"text-align: right;\">\n",
       "      <th></th>\n",
       "      <th>Date</th>\n",
       "      <th>Country</th>\n",
       "      <th>Confirmed</th>\n",
       "      <th>Recovered</th>\n",
       "      <th>Deaths</th>\n",
       "    </tr>\n",
       "  </thead>\n",
       "  <tbody>\n",
       "    <tr>\n",
       "      <th>23678</th>\n",
       "      <td>2020-05-26</td>\n",
       "      <td>United Kingdom</td>\n",
       "      <td>266599</td>\n",
       "      <td>1161</td>\n",
       "      <td>37130</td>\n",
       "    </tr>\n",
       "    <tr>\n",
       "      <th>23679</th>\n",
       "      <td>2020-05-26</td>\n",
       "      <td>Uruguay</td>\n",
       "      <td>789</td>\n",
       "      <td>638</td>\n",
       "      <td>22</td>\n",
       "    </tr>\n",
       "    <tr>\n",
       "      <th>23680</th>\n",
       "      <td>2020-05-26</td>\n",
       "      <td>Uzbekistan</td>\n",
       "      <td>3290</td>\n",
       "      <td>2636</td>\n",
       "      <td>14</td>\n",
       "    </tr>\n",
       "    <tr>\n",
       "      <th>23681</th>\n",
       "      <td>2020-05-26</td>\n",
       "      <td>Venezuela</td>\n",
       "      <td>1211</td>\n",
       "      <td>302</td>\n",
       "      <td>11</td>\n",
       "    </tr>\n",
       "    <tr>\n",
       "      <th>23682</th>\n",
       "      <td>2020-05-26</td>\n",
       "      <td>Vietnam</td>\n",
       "      <td>327</td>\n",
       "      <td>272</td>\n",
       "      <td>0</td>\n",
       "    </tr>\n",
       "    <tr>\n",
       "      <th>23683</th>\n",
       "      <td>2020-05-26</td>\n",
       "      <td>West Bank and Gaza</td>\n",
       "      <td>429</td>\n",
       "      <td>365</td>\n",
       "      <td>3</td>\n",
       "    </tr>\n",
       "    <tr>\n",
       "      <th>23684</th>\n",
       "      <td>2020-05-26</td>\n",
       "      <td>Western Sahara</td>\n",
       "      <td>9</td>\n",
       "      <td>6</td>\n",
       "      <td>1</td>\n",
       "    </tr>\n",
       "    <tr>\n",
       "      <th>23685</th>\n",
       "      <td>2020-05-26</td>\n",
       "      <td>Yemen</td>\n",
       "      <td>249</td>\n",
       "      <td>10</td>\n",
       "      <td>49</td>\n",
       "    </tr>\n",
       "    <tr>\n",
       "      <th>23686</th>\n",
       "      <td>2020-05-26</td>\n",
       "      <td>Zambia</td>\n",
       "      <td>920</td>\n",
       "      <td>336</td>\n",
       "      <td>7</td>\n",
       "    </tr>\n",
       "    <tr>\n",
       "      <th>23687</th>\n",
       "      <td>2020-05-26</td>\n",
       "      <td>Zimbabwe</td>\n",
       "      <td>56</td>\n",
       "      <td>25</td>\n",
       "      <td>4</td>\n",
       "    </tr>\n",
       "  </tbody>\n",
       "</table>\n",
       "</div>"
      ],
      "text/plain": [
       "             Date             Country  Confirmed  Recovered  Deaths\n",
       "23678  2020-05-26      United Kingdom     266599       1161   37130\n",
       "23679  2020-05-26             Uruguay        789        638      22\n",
       "23680  2020-05-26          Uzbekistan       3290       2636      14\n",
       "23681  2020-05-26           Venezuela       1211        302      11\n",
       "23682  2020-05-26             Vietnam        327        272       0\n",
       "23683  2020-05-26  West Bank and Gaza        429        365       3\n",
       "23684  2020-05-26      Western Sahara          9          6       1\n",
       "23685  2020-05-26               Yemen        249         10      49\n",
       "23686  2020-05-26              Zambia        920        336       7\n",
       "23687  2020-05-26            Zimbabwe         56         25       4"
      ]
     },
     "execution_count": 5,
     "metadata": {},
     "output_type": "execute_result"
    }
   ],
   "source": [
    "ds.tail(10)"
   ]
  },
  {
   "cell_type": "code",
   "execution_count": 6,
   "metadata": {},
   "outputs": [
    {
     "name": "stdout",
     "output_type": "stream",
     "text": [
      "<class 'pandas.core.frame.DataFrame'>\n",
      "RangeIndex: 23688 entries, 0 to 23687\n",
      "Data columns (total 5 columns):\n",
      " #   Column     Non-Null Count  Dtype \n",
      "---  ------     --------------  ----- \n",
      " 0   Date       23688 non-null  object\n",
      " 1   Country    23688 non-null  object\n",
      " 2   Confirmed  23688 non-null  int64 \n",
      " 3   Recovered  23688 non-null  int64 \n",
      " 4   Deaths     23688 non-null  int64 \n",
      "dtypes: int64(3), object(2)\n",
      "memory usage: 925.4+ KB\n"
     ]
    }
   ],
   "source": [
    "ds.info()"
   ]
  },
  {
   "cell_type": "code",
   "execution_count": 7,
   "metadata": {},
   "outputs": [
    {
     "data": {
      "text/plain": [
       "Date         0\n",
       "Country      0\n",
       "Confirmed    0\n",
       "Recovered    0\n",
       "Deaths       0\n",
       "dtype: int64"
      ]
     },
     "execution_count": 7,
     "metadata": {},
     "output_type": "execute_result"
    }
   ],
   "source": [
    "ds.isnull().sum()"
   ]
  },
  {
   "cell_type": "markdown",
   "metadata": {},
   "source": [
    "There are no null values in Dataset"
   ]
  },
  {
   "cell_type": "code",
   "execution_count": 8,
   "metadata": {},
   "outputs": [
    {
     "data": {
      "text/plain": [
       "Date         object\n",
       "Country      object\n",
       "Confirmed     int64\n",
       "Recovered     int64\n",
       "Deaths        int64\n",
       "dtype: object"
      ]
     },
     "execution_count": 8,
     "metadata": {},
     "output_type": "execute_result"
    }
   ],
   "source": [
    "ds.dtypes"
   ]
  },
  {
   "cell_type": "code",
   "execution_count": 9,
   "metadata": {},
   "outputs": [
    {
     "data": {
      "text/plain": [
       "(23688, 5)"
      ]
     },
     "execution_count": 9,
     "metadata": {},
     "output_type": "execute_result"
    }
   ],
   "source": [
    "ds.shape"
   ]
  },
  {
   "cell_type": "code",
   "execution_count": 10,
   "metadata": {
    "scrolled": true
   },
   "outputs": [
    {
     "data": {
      "text/html": [
       "<div>\n",
       "<style scoped>\n",
       "    .dataframe tbody tr th:only-of-type {\n",
       "        vertical-align: middle;\n",
       "    }\n",
       "\n",
       "    .dataframe tbody tr th {\n",
       "        vertical-align: top;\n",
       "    }\n",
       "\n",
       "    .dataframe thead th {\n",
       "        text-align: right;\n",
       "    }\n",
       "</style>\n",
       "<table border=\"1\" class=\"dataframe\">\n",
       "  <thead>\n",
       "    <tr style=\"text-align: right;\">\n",
       "      <th></th>\n",
       "      <th>Confirmed</th>\n",
       "      <th>Recovered</th>\n",
       "      <th>Deaths</th>\n",
       "    </tr>\n",
       "  </thead>\n",
       "  <tbody>\n",
       "    <tr>\n",
       "      <th>count</th>\n",
       "      <td>2.368800e+04</td>\n",
       "      <td>23688.000000</td>\n",
       "      <td>23688.000000</td>\n",
       "    </tr>\n",
       "    <tr>\n",
       "      <th>mean</th>\n",
       "      <td>7.969368e+03</td>\n",
       "      <td>2581.801714</td>\n",
       "      <td>526.935030</td>\n",
       "    </tr>\n",
       "    <tr>\n",
       "      <th>std</th>\n",
       "      <td>5.842109e+04</td>\n",
       "      <td>15143.101257</td>\n",
       "      <td>3992.815956</td>\n",
       "    </tr>\n",
       "    <tr>\n",
       "      <th>min</th>\n",
       "      <td>0.000000e+00</td>\n",
       "      <td>0.000000</td>\n",
       "      <td>0.000000</td>\n",
       "    </tr>\n",
       "    <tr>\n",
       "      <th>25%</th>\n",
       "      <td>0.000000e+00</td>\n",
       "      <td>0.000000</td>\n",
       "      <td>0.000000</td>\n",
       "    </tr>\n",
       "    <tr>\n",
       "      <th>50%</th>\n",
       "      <td>1.800000e+01</td>\n",
       "      <td>1.000000</td>\n",
       "      <td>0.000000</td>\n",
       "    </tr>\n",
       "    <tr>\n",
       "      <th>75%</th>\n",
       "      <td>7.300000e+02</td>\n",
       "      <td>123.000000</td>\n",
       "      <td>13.000000</td>\n",
       "    </tr>\n",
       "    <tr>\n",
       "      <th>max</th>\n",
       "      <td>1.680913e+06</td>\n",
       "      <td>384902.000000</td>\n",
       "      <td>98913.000000</td>\n",
       "    </tr>\n",
       "  </tbody>\n",
       "</table>\n",
       "</div>"
      ],
      "text/plain": [
       "          Confirmed      Recovered        Deaths\n",
       "count  2.368800e+04   23688.000000  23688.000000\n",
       "mean   7.969368e+03    2581.801714    526.935030\n",
       "std    5.842109e+04   15143.101257   3992.815956\n",
       "min    0.000000e+00       0.000000      0.000000\n",
       "25%    0.000000e+00       0.000000      0.000000\n",
       "50%    1.800000e+01       1.000000      0.000000\n",
       "75%    7.300000e+02     123.000000     13.000000\n",
       "max    1.680913e+06  384902.000000  98913.000000"
      ]
     },
     "execution_count": 10,
     "metadata": {},
     "output_type": "execute_result"
    }
   ],
   "source": [
    "ds.describe()"
   ]
  },
  {
   "cell_type": "code",
   "execution_count": 11,
   "metadata": {
    "scrolled": false
   },
   "outputs": [
    {
     "data": {
      "text/plain": [
       "array(['Afghanistan', 'Albania', 'Algeria', 'Andorra', 'Angola',\n",
       "       'Antigua and Barbuda', 'Argentina', 'Armenia', 'Australia',\n",
       "       'Austria', 'Azerbaijan', 'Bahamas', 'Bahrain', 'Bangladesh',\n",
       "       'Barbados', 'Belarus', 'Belgium', 'Belize', 'Benin', 'Bhutan',\n",
       "       'Bolivia', 'Bosnia and Herzegovina', 'Botswana', 'Brazil',\n",
       "       'Brunei', 'Bulgaria', 'Burkina Faso', 'Burma', 'Burundi',\n",
       "       'Cabo Verde', 'Cambodia', 'Cameroon', 'Canada',\n",
       "       'Central African Republic', 'Chad', 'Chile', 'China', 'Colombia',\n",
       "       'Comoros', 'Congo (Brazzaville)', 'Congo (Kinshasa)', 'Costa Rica',\n",
       "       \"Cote d'Ivoire\", 'Croatia', 'Cuba', 'Cyprus', 'Czechia', 'Denmark',\n",
       "       'Diamond Princess', 'Djibouti', 'Dominica', 'Dominican Republic',\n",
       "       'Ecuador', 'Egypt', 'El Salvador', 'Equatorial Guinea', 'Eritrea',\n",
       "       'Estonia', 'Eswatini', 'Ethiopia', 'Fiji', 'Finland', 'France',\n",
       "       'Gabon', 'Gambia', 'Georgia', 'Germany', 'Ghana', 'Greece',\n",
       "       'Grenada', 'Guatemala', 'Guinea', 'Guinea-Bissau', 'Guyana',\n",
       "       'Haiti', 'Holy See', 'Honduras', 'Hungary', 'Iceland', 'India',\n",
       "       'Indonesia', 'Iran', 'Iraq', 'Ireland', 'Israel', 'Italy',\n",
       "       'Jamaica', 'Japan', 'Jordan', 'Kazakhstan', 'Kenya',\n",
       "       'Korea, South', 'Kosovo', 'Kuwait', 'Kyrgyzstan', 'Laos', 'Latvia',\n",
       "       'Lebanon', 'Lesotho', 'Liberia', 'Libya', 'Liechtenstein',\n",
       "       'Lithuania', 'Luxembourg', 'MS Zaandam', 'Madagascar', 'Malawi',\n",
       "       'Malaysia', 'Maldives', 'Mali', 'Malta', 'Mauritania', 'Mauritius',\n",
       "       'Mexico', 'Moldova', 'Monaco', 'Mongolia', 'Montenegro', 'Morocco',\n",
       "       'Mozambique', 'Namibia', 'Nepal', 'Netherlands', 'New Zealand',\n",
       "       'Nicaragua', 'Niger', 'Nigeria', 'North Macedonia', 'Norway',\n",
       "       'Oman', 'Pakistan', 'Panama', 'Papua New Guinea', 'Paraguay',\n",
       "       'Peru', 'Philippines', 'Poland', 'Portugal', 'Qatar', 'Romania',\n",
       "       'Russia', 'Rwanda', 'Saint Kitts and Nevis', 'Saint Lucia',\n",
       "       'Saint Vincent and the Grenadines', 'San Marino',\n",
       "       'Sao Tome and Principe', 'Saudi Arabia', 'Senegal', 'Serbia',\n",
       "       'Seychelles', 'Sierra Leone', 'Singapore', 'Slovakia', 'Slovenia',\n",
       "       'Somalia', 'South Africa', 'South Sudan', 'Spain', 'Sri Lanka',\n",
       "       'Sudan', 'Suriname', 'Sweden', 'Switzerland', 'Syria', 'Taiwan*',\n",
       "       'Tajikistan', 'Tanzania', 'Thailand', 'Timor-Leste', 'Togo',\n",
       "       'Trinidad and Tobago', 'Tunisia', 'Turkey', 'US', 'Uganda',\n",
       "       'Ukraine', 'United Arab Emirates', 'United Kingdom', 'Uruguay',\n",
       "       'Uzbekistan', 'Venezuela', 'Vietnam', 'West Bank and Gaza',\n",
       "       'Western Sahara', 'Yemen', 'Zambia', 'Zimbabwe'], dtype=object)"
      ]
     },
     "execution_count": 11,
     "metadata": {},
     "output_type": "execute_result"
    }
   ],
   "source": [
    "ds['Country'].unique()"
   ]
  },
  {
   "cell_type": "code",
   "execution_count": 12,
   "metadata": {},
   "outputs": [
    {
     "data": {
      "text/html": [
       "<div>\n",
       "<style scoped>\n",
       "    .dataframe tbody tr th:only-of-type {\n",
       "        vertical-align: middle;\n",
       "    }\n",
       "\n",
       "    .dataframe tbody tr th {\n",
       "        vertical-align: top;\n",
       "    }\n",
       "\n",
       "    .dataframe thead th {\n",
       "        text-align: right;\n",
       "    }\n",
       "</style>\n",
       "<table border=\"1\" class=\"dataframe\">\n",
       "  <thead>\n",
       "    <tr style=\"text-align: right;\">\n",
       "      <th></th>\n",
       "      <th>Date</th>\n",
       "      <th>Country</th>\n",
       "      <th>Confirmed</th>\n",
       "      <th>Recovered</th>\n",
       "      <th>Deaths</th>\n",
       "    </tr>\n",
       "  </thead>\n",
       "  <tbody>\n",
       "    <tr>\n",
       "      <th>0</th>\n",
       "      <td>2020-01-22</td>\n",
       "      <td>Afghanistan</td>\n",
       "      <td>0</td>\n",
       "      <td>0</td>\n",
       "      <td>0</td>\n",
       "    </tr>\n",
       "    <tr>\n",
       "      <th>1</th>\n",
       "      <td>2020-01-22</td>\n",
       "      <td>Albania</td>\n",
       "      <td>0</td>\n",
       "      <td>0</td>\n",
       "      <td>0</td>\n",
       "    </tr>\n",
       "    <tr>\n",
       "      <th>2</th>\n",
       "      <td>2020-01-22</td>\n",
       "      <td>Algeria</td>\n",
       "      <td>0</td>\n",
       "      <td>0</td>\n",
       "      <td>0</td>\n",
       "    </tr>\n",
       "    <tr>\n",
       "      <th>3</th>\n",
       "      <td>2020-01-22</td>\n",
       "      <td>Andorra</td>\n",
       "      <td>0</td>\n",
       "      <td>0</td>\n",
       "      <td>0</td>\n",
       "    </tr>\n",
       "    <tr>\n",
       "      <th>4</th>\n",
       "      <td>2020-01-22</td>\n",
       "      <td>Angola</td>\n",
       "      <td>0</td>\n",
       "      <td>0</td>\n",
       "      <td>0</td>\n",
       "    </tr>\n",
       "    <tr>\n",
       "      <th>...</th>\n",
       "      <td>...</td>\n",
       "      <td>...</td>\n",
       "      <td>...</td>\n",
       "      <td>...</td>\n",
       "      <td>...</td>\n",
       "    </tr>\n",
       "    <tr>\n",
       "      <th>183</th>\n",
       "      <td>2020-01-22</td>\n",
       "      <td>West Bank and Gaza</td>\n",
       "      <td>0</td>\n",
       "      <td>0</td>\n",
       "      <td>0</td>\n",
       "    </tr>\n",
       "    <tr>\n",
       "      <th>184</th>\n",
       "      <td>2020-01-22</td>\n",
       "      <td>Western Sahara</td>\n",
       "      <td>0</td>\n",
       "      <td>0</td>\n",
       "      <td>0</td>\n",
       "    </tr>\n",
       "    <tr>\n",
       "      <th>185</th>\n",
       "      <td>2020-01-22</td>\n",
       "      <td>Yemen</td>\n",
       "      <td>0</td>\n",
       "      <td>0</td>\n",
       "      <td>0</td>\n",
       "    </tr>\n",
       "    <tr>\n",
       "      <th>186</th>\n",
       "      <td>2020-01-22</td>\n",
       "      <td>Zambia</td>\n",
       "      <td>0</td>\n",
       "      <td>0</td>\n",
       "      <td>0</td>\n",
       "    </tr>\n",
       "    <tr>\n",
       "      <th>187</th>\n",
       "      <td>2020-01-22</td>\n",
       "      <td>Zimbabwe</td>\n",
       "      <td>0</td>\n",
       "      <td>0</td>\n",
       "      <td>0</td>\n",
       "    </tr>\n",
       "  </tbody>\n",
       "</table>\n",
       "<p>188 rows × 5 columns</p>\n",
       "</div>"
      ],
      "text/plain": [
       "           Date             Country  Confirmed  Recovered  Deaths\n",
       "0    2020-01-22         Afghanistan          0          0       0\n",
       "1    2020-01-22             Albania          0          0       0\n",
       "2    2020-01-22             Algeria          0          0       0\n",
       "3    2020-01-22             Andorra          0          0       0\n",
       "4    2020-01-22              Angola          0          0       0\n",
       "..          ...                 ...        ...        ...     ...\n",
       "183  2020-01-22  West Bank and Gaza          0          0       0\n",
       "184  2020-01-22      Western Sahara          0          0       0\n",
       "185  2020-01-22               Yemen          0          0       0\n",
       "186  2020-01-22              Zambia          0          0       0\n",
       "187  2020-01-22            Zimbabwe          0          0       0\n",
       "\n",
       "[188 rows x 5 columns]"
      ]
     },
     "execution_count": 12,
     "metadata": {},
     "output_type": "execute_result"
    }
   ],
   "source": [
    "ds.drop_duplicates('Country')"
   ]
  },
  {
   "cell_type": "markdown",
   "metadata": {},
   "source": [
    "It was found that there are 188 Country in Dataset"
   ]
  },
  {
   "cell_type": "code",
   "execution_count": 13,
   "metadata": {},
   "outputs": [
    {
     "data": {
      "text/html": [
       "<div>\n",
       "<style scoped>\n",
       "    .dataframe tbody tr th:only-of-type {\n",
       "        vertical-align: middle;\n",
       "    }\n",
       "\n",
       "    .dataframe tbody tr th {\n",
       "        vertical-align: top;\n",
       "    }\n",
       "\n",
       "    .dataframe thead th {\n",
       "        text-align: right;\n",
       "    }\n",
       "</style>\n",
       "<table border=\"1\" class=\"dataframe\">\n",
       "  <thead>\n",
       "    <tr style=\"text-align: right;\">\n",
       "      <th></th>\n",
       "      <th>Date</th>\n",
       "      <th>Country</th>\n",
       "      <th>Confirmed</th>\n",
       "      <th>Recovered</th>\n",
       "      <th>Deaths</th>\n",
       "    </tr>\n",
       "  </thead>\n",
       "  <tbody>\n",
       "    <tr>\n",
       "      <th>0</th>\n",
       "      <td>2020-01-22</td>\n",
       "      <td>Afghanistan</td>\n",
       "      <td>0</td>\n",
       "      <td>0</td>\n",
       "      <td>0</td>\n",
       "    </tr>\n",
       "    <tr>\n",
       "      <th>1</th>\n",
       "      <td>2020-01-22</td>\n",
       "      <td>Albania</td>\n",
       "      <td>0</td>\n",
       "      <td>0</td>\n",
       "      <td>0</td>\n",
       "    </tr>\n",
       "    <tr>\n",
       "      <th>2</th>\n",
       "      <td>2020-01-22</td>\n",
       "      <td>Algeria</td>\n",
       "      <td>0</td>\n",
       "      <td>0</td>\n",
       "      <td>0</td>\n",
       "    </tr>\n",
       "    <tr>\n",
       "      <th>3</th>\n",
       "      <td>2020-01-22</td>\n",
       "      <td>Andorra</td>\n",
       "      <td>0</td>\n",
       "      <td>0</td>\n",
       "      <td>0</td>\n",
       "    </tr>\n",
       "    <tr>\n",
       "      <th>4</th>\n",
       "      <td>2020-01-22</td>\n",
       "      <td>Angola</td>\n",
       "      <td>0</td>\n",
       "      <td>0</td>\n",
       "      <td>0</td>\n",
       "    </tr>\n",
       "    <tr>\n",
       "      <th>...</th>\n",
       "      <td>...</td>\n",
       "      <td>...</td>\n",
       "      <td>...</td>\n",
       "      <td>...</td>\n",
       "      <td>...</td>\n",
       "    </tr>\n",
       "    <tr>\n",
       "      <th>23683</th>\n",
       "      <td>2020-05-26</td>\n",
       "      <td>West Bank and Gaza</td>\n",
       "      <td>429</td>\n",
       "      <td>365</td>\n",
       "      <td>3</td>\n",
       "    </tr>\n",
       "    <tr>\n",
       "      <th>23684</th>\n",
       "      <td>2020-05-26</td>\n",
       "      <td>Western Sahara</td>\n",
       "      <td>9</td>\n",
       "      <td>6</td>\n",
       "      <td>1</td>\n",
       "    </tr>\n",
       "    <tr>\n",
       "      <th>23685</th>\n",
       "      <td>2020-05-26</td>\n",
       "      <td>Yemen</td>\n",
       "      <td>249</td>\n",
       "      <td>10</td>\n",
       "      <td>49</td>\n",
       "    </tr>\n",
       "    <tr>\n",
       "      <th>23686</th>\n",
       "      <td>2020-05-26</td>\n",
       "      <td>Zambia</td>\n",
       "      <td>920</td>\n",
       "      <td>336</td>\n",
       "      <td>7</td>\n",
       "    </tr>\n",
       "    <tr>\n",
       "      <th>23687</th>\n",
       "      <td>2020-05-26</td>\n",
       "      <td>Zimbabwe</td>\n",
       "      <td>56</td>\n",
       "      <td>25</td>\n",
       "      <td>4</td>\n",
       "    </tr>\n",
       "  </tbody>\n",
       "</table>\n",
       "<p>23688 rows × 5 columns</p>\n",
       "</div>"
      ],
      "text/plain": [
       "             Date             Country  Confirmed  Recovered  Deaths\n",
       "0      2020-01-22         Afghanistan          0          0       0\n",
       "1      2020-01-22             Albania          0          0       0\n",
       "2      2020-01-22             Algeria          0          0       0\n",
       "3      2020-01-22             Andorra          0          0       0\n",
       "4      2020-01-22              Angola          0          0       0\n",
       "...           ...                 ...        ...        ...     ...\n",
       "23683  2020-05-26  West Bank and Gaza        429        365       3\n",
       "23684  2020-05-26      Western Sahara          9          6       1\n",
       "23685  2020-05-26               Yemen        249         10      49\n",
       "23686  2020-05-26              Zambia        920        336       7\n",
       "23687  2020-05-26            Zimbabwe         56         25       4\n",
       "\n",
       "[23688 rows x 5 columns]"
      ]
     },
     "execution_count": 13,
     "metadata": {},
     "output_type": "execute_result"
    }
   ],
   "source": [
    "ds"
   ]
  },
  {
   "cell_type": "code",
   "execution_count": 14,
   "metadata": {},
   "outputs": [
    {
     "data": {
      "image/png": "[encoded data removed]",
      "text/plain": [
       "<Figure size 1800x360 with 1 Axes>"
      ]
     },
     "metadata": {
      "needs_background": "light"
     },
     "output_type": "display_data"
    }
   ],
   "source": [
    "plt.figure(figsize=(25,5))\n",
    "sns.scatterplot(x=ds['Country'],y=ds['Confirmed'],data=ds)\n",
    "plt.show()"
   ]
  },
  {
   "cell_type": "code",
   "execution_count": 15,
   "metadata": {},
   "outputs": [],
   "source": [
    "from sklearn.preprocessing import LabelEncoder"
   ]
  },
  {
   "cell_type": "code",
   "execution_count": 16,
   "metadata": {},
   "outputs": [],
   "source": [
    "le = LabelEncoder()"
   ]
  },
  {
   "cell_type": "code",
   "execution_count": 18,
   "metadata": {},
   "outputs": [
    {
     "data": {
      "text/html": [
       "<div>\n",
       "<style scoped>\n",
       "    .dataframe tbody tr th:only-of-type {\n",
       "        vertical-align: middle;\n",
       "    }\n",
       "\n",
       "    .dataframe tbody tr th {\n",
       "        vertical-align: top;\n",
       "    }\n",
       "\n",
       "    .dataframe thead th {\n",
       "        text-align: right;\n",
       "    }\n",
       "</style>\n",
       "<table border=\"1\" class=\"dataframe\">\n",
       "  <thead>\n",
       "    <tr style=\"text-align: right;\">\n",
       "      <th></th>\n",
       "      <th>Date</th>\n",
       "      <th>Country</th>\n",
       "      <th>Confirmed</th>\n",
       "      <th>Recovered</th>\n",
       "      <th>Deaths</th>\n",
       "    </tr>\n",
       "  </thead>\n",
       "  <tbody>\n",
       "    <tr>\n",
       "      <th>0</th>\n",
       "      <td>2020-01-22</td>\n",
       "      <td>Afghanistan</td>\n",
       "      <td>0</td>\n",
       "      <td>0</td>\n",
       "      <td>0</td>\n",
       "    </tr>\n",
       "    <tr>\n",
       "      <th>1</th>\n",
       "      <td>2020-01-22</td>\n",
       "      <td>Albania</td>\n",
       "      <td>0</td>\n",
       "      <td>0</td>\n",
       "      <td>0</td>\n",
       "    </tr>\n",
       "    <tr>\n",
       "      <th>2</th>\n",
       "      <td>2020-01-22</td>\n",
       "      <td>Algeria</td>\n",
       "      <td>0</td>\n",
       "      <td>0</td>\n",
       "      <td>0</td>\n",
       "    </tr>\n",
       "    <tr>\n",
       "      <th>3</th>\n",
       "      <td>2020-01-22</td>\n",
       "      <td>Andorra</td>\n",
       "      <td>0</td>\n",
       "      <td>0</td>\n",
       "      <td>0</td>\n",
       "    </tr>\n",
       "    <tr>\n",
       "      <th>4</th>\n",
       "      <td>2020-01-22</td>\n",
       "      <td>Angola</td>\n",
       "      <td>0</td>\n",
       "      <td>0</td>\n",
       "      <td>0</td>\n",
       "    </tr>\n",
       "    <tr>\n",
       "      <th>...</th>\n",
       "      <td>...</td>\n",
       "      <td>...</td>\n",
       "      <td>...</td>\n",
       "      <td>...</td>\n",
       "      <td>...</td>\n",
       "    </tr>\n",
       "    <tr>\n",
       "      <th>23683</th>\n",
       "      <td>2020-05-26</td>\n",
       "      <td>West Bank and Gaza</td>\n",
       "      <td>429</td>\n",
       "      <td>365</td>\n",
       "      <td>3</td>\n",
       "    </tr>\n",
       "    <tr>\n",
       "      <th>23684</th>\n",
       "      <td>2020-05-26</td>\n",
       "      <td>Western Sahara</td>\n",
       "      <td>9</td>\n",
       "      <td>6</td>\n",
       "      <td>1</td>\n",
       "    </tr>\n",
       "    <tr>\n",
       "      <th>23685</th>\n",
       "      <td>2020-05-26</td>\n",
       "      <td>Yemen</td>\n",
       "      <td>249</td>\n",
       "      <td>10</td>\n",
       "      <td>49</td>\n",
       "    </tr>\n",
       "    <tr>\n",
       "      <th>23686</th>\n",
       "      <td>2020-05-26</td>\n",
       "      <td>Zambia</td>\n",
       "      <td>920</td>\n",
       "      <td>336</td>\n",
       "      <td>7</td>\n",
       "    </tr>\n",
       "    <tr>\n",
       "      <th>23687</th>\n",
       "      <td>2020-05-26</td>\n",
       "      <td>Zimbabwe</td>\n",
       "      <td>56</td>\n",
       "      <td>25</td>\n",
       "      <td>4</td>\n",
       "    </tr>\n",
       "  </tbody>\n",
       "</table>\n",
       "<p>23688 rows × 5 columns</p>\n",
       "</div>"
      ],
      "text/plain": [
       "             Date             Country  Confirmed  Recovered  Deaths\n",
       "0      2020-01-22         Afghanistan          0          0       0\n",
       "1      2020-01-22             Albania          0          0       0\n",
       "2      2020-01-22             Algeria          0          0       0\n",
       "3      2020-01-22             Andorra          0          0       0\n",
       "4      2020-01-22              Angola          0          0       0\n",
       "...           ...                 ...        ...        ...     ...\n",
       "23683  2020-05-26  West Bank and Gaza        429        365       3\n",
       "23684  2020-05-26      Western Sahara          9          6       1\n",
       "23685  2020-05-26               Yemen        249         10      49\n",
       "23686  2020-05-26              Zambia        920        336       7\n",
       "23687  2020-05-26            Zimbabwe         56         25       4\n",
       "\n",
       "[23688 rows x 5 columns]"
      ]
     },
     "execution_count": 18,
     "metadata": {},
     "output_type": "execute_result"
    }
   ],
   "source": [
    "ds"
   ]
  },
  {
   "cell_type": "code",
   "execution_count": 19,
   "metadata": {},
   "outputs": [
    {
     "data": {
      "text/plain": [
       "Confirmed    18.674502\n",
       "Recovered    10.662286\n",
       "Deaths       14.218167\n",
       "dtype: float64"
      ]
     },
     "execution_count": 19,
     "metadata": {},
     "output_type": "execute_result"
    }
   ],
   "source": [
    "ds.skew()"
   ]
  },
  {
   "cell_type": "markdown",
   "metadata": {},
   "source": [
    "We will not perform skewness  removal process"
   ]
  },
  {
   "cell_type": "code",
   "execution_count": 20,
   "metadata": {},
   "outputs": [
    {
     "name": "stdout",
     "output_type": "stream",
     "text": [
      "Maximum Confirmed Cases =  1680913\n"
     ]
    }
   ],
   "source": [
    "print('Maximum Confirmed Cases = ',ds['Confirmed'].max())"
   ]
  },
  {
   "cell_type": "code",
   "execution_count": 21,
   "metadata": {},
   "outputs": [
    {
     "name": "stdout",
     "output_type": "stream",
     "text": [
      "Maximun Recovered Cases =  384902\n"
     ]
    }
   ],
   "source": [
    "print('Maximun Recovered Cases = ',ds['Recovered'].max())"
   ]
  },
  {
   "cell_type": "code",
   "execution_count": 22,
   "metadata": {},
   "outputs": [
    {
     "name": "stdout",
     "output_type": "stream",
     "text": [
      "Maximun Recovered Cases =  98913\n"
     ]
    }
   ],
   "source": [
    "print('Maximun Recovered Cases = ',ds['Deaths'].max())"
   ]
  },
  {
   "cell_type": "code",
   "execution_count": 23,
   "metadata": {},
   "outputs": [
    {
     "data": {
      "text/html": [
       "<div>\n",
       "<style scoped>\n",
       "    .dataframe tbody tr th:only-of-type {\n",
       "        vertical-align: middle;\n",
       "    }\n",
       "\n",
       "    .dataframe tbody tr th {\n",
       "        vertical-align: top;\n",
       "    }\n",
       "\n",
       "    .dataframe thead th {\n",
       "        text-align: right;\n",
       "    }\n",
       "</style>\n",
       "<table border=\"1\" class=\"dataframe\">\n",
       "  <thead>\n",
       "    <tr style=\"text-align: right;\">\n",
       "      <th></th>\n",
       "      <th>Date</th>\n",
       "      <th>Country</th>\n",
       "      <th>Confirmed</th>\n",
       "      <th>Recovered</th>\n",
       "      <th>Deaths</th>\n",
       "    </tr>\n",
       "  </thead>\n",
       "  <tbody>\n",
       "    <tr>\n",
       "      <th>23674</th>\n",
       "      <td>2020-05-26</td>\n",
       "      <td>US</td>\n",
       "      <td>1680913</td>\n",
       "      <td>384902</td>\n",
       "      <td>98913</td>\n",
       "    </tr>\n",
       "  </tbody>\n",
       "</table>\n",
       "</div>"
      ],
      "text/plain": [
       "             Date Country  Confirmed  Recovered  Deaths\n",
       "23674  2020-05-26      US    1680913     384902   98913"
      ]
     },
     "execution_count": 23,
     "metadata": {},
     "output_type": "execute_result"
    }
   ],
   "source": [
    "conf=ds['Confirmed'] == ds['Confirmed'].max()\n",
    "max_conf=ds[conf] \n",
    "max_conf"
   ]
  },
  {
   "cell_type": "code",
   "execution_count": 24,
   "metadata": {},
   "outputs": [
    {
     "data": {
      "text/html": [
       "<div>\n",
       "<style scoped>\n",
       "    .dataframe tbody tr th:only-of-type {\n",
       "        vertical-align: middle;\n",
       "    }\n",
       "\n",
       "    .dataframe tbody tr th {\n",
       "        vertical-align: top;\n",
       "    }\n",
       "\n",
       "    .dataframe thead th {\n",
       "        text-align: right;\n",
       "    }\n",
       "</style>\n",
       "<table border=\"1\" class=\"dataframe\">\n",
       "  <thead>\n",
       "    <tr style=\"text-align: right;\">\n",
       "      <th></th>\n",
       "      <th>Date</th>\n",
       "      <th>Country</th>\n",
       "      <th>Confirmed</th>\n",
       "      <th>Recovered</th>\n",
       "      <th>Deaths</th>\n",
       "    </tr>\n",
       "  </thead>\n",
       "  <tbody>\n",
       "    <tr>\n",
       "      <th>23674</th>\n",
       "      <td>2020-05-26</td>\n",
       "      <td>US</td>\n",
       "      <td>1680913</td>\n",
       "      <td>384902</td>\n",
       "      <td>98913</td>\n",
       "    </tr>\n",
       "  </tbody>\n",
       "</table>\n",
       "</div>"
      ],
      "text/plain": [
       "             Date Country  Confirmed  Recovered  Deaths\n",
       "23674  2020-05-26      US    1680913     384902   98913"
      ]
     },
     "execution_count": 24,
     "metadata": {},
     "output_type": "execute_result"
    }
   ],
   "source": [
    "reco=ds['Recovered'] == ds['Recovered'].max()\n",
    "max_reco=ds[reco] \n",
    "max_reco"
   ]
  },
  {
   "cell_type": "code",
   "execution_count": 25,
   "metadata": {},
   "outputs": [
    {
     "data": {
      "text/html": [
       "<div>\n",
       "<style scoped>\n",
       "    .dataframe tbody tr th:only-of-type {\n",
       "        vertical-align: middle;\n",
       "    }\n",
       "\n",
       "    .dataframe tbody tr th {\n",
       "        vertical-align: top;\n",
       "    }\n",
       "\n",
       "    .dataframe thead th {\n",
       "        text-align: right;\n",
       "    }\n",
       "</style>\n",
       "<table border=\"1\" class=\"dataframe\">\n",
       "  <thead>\n",
       "    <tr style=\"text-align: right;\">\n",
       "      <th></th>\n",
       "      <th>Date</th>\n",
       "      <th>Country</th>\n",
       "      <th>Confirmed</th>\n",
       "      <th>Recovered</th>\n",
       "      <th>Deaths</th>\n",
       "    </tr>\n",
       "  </thead>\n",
       "  <tbody>\n",
       "    <tr>\n",
       "      <th>23674</th>\n",
       "      <td>2020-05-26</td>\n",
       "      <td>US</td>\n",
       "      <td>1680913</td>\n",
       "      <td>384902</td>\n",
       "      <td>98913</td>\n",
       "    </tr>\n",
       "  </tbody>\n",
       "</table>\n",
       "</div>"
      ],
      "text/plain": [
       "             Date Country  Confirmed  Recovered  Deaths\n",
       "23674  2020-05-26      US    1680913     384902   98913"
      ]
     },
     "execution_count": 25,
     "metadata": {},
     "output_type": "execute_result"
    }
   ],
   "source": [
    "deat=ds['Deaths'] == ds['Deaths'].max()\n",
    "max_deat=ds[deat] \n",
    "max_deat"
   ]
  },
  {
   "cell_type": "code",
   "execution_count": 26,
   "metadata": {},
   "outputs": [
    {
     "data": {
      "text/plain": [
       "<AxesSubplot:xlabel='Confirmed', ylabel='Deaths'>"
      ]
     },
     "execution_count": 26,
     "metadata": {},
     "output_type": "execute_result"
    },
    {
     "data": {
      "image/png": "[encoded data removed]",
      "text/plain": [
       "<Figure size 432x288 with 1 Axes>"
      ]
     },
     "metadata": {
      "needs_background": "light"
     },
     "output_type": "display_data"
    }
   ],
   "source": [
    "sns.scatterplot(x = ds['Confirmed'],y = ds['Deaths'],data = ds)"
   ]
  },
  {
   "cell_type": "code",
   "execution_count": 27,
   "metadata": {},
   "outputs": [
    {
     "data": {
      "text/plain": [
       "<AxesSubplot:xlabel='Recovered', ylabel='Deaths'>"
      ]
     },
     "execution_count": 27,
     "metadata": {},
     "output_type": "execute_result"
    },
    {
     "data": {
      "image/png": "[encoded data removed]",
      "text/plain": [
       "<Figure size 432x288 with 1 Axes>"
      ]
     },
     "metadata": {
      "needs_background": "light"
     },
     "output_type": "display_data"
    }
   ],
   "source": [
    "sns.scatterplot(x=ds['Recovered'],y=ds['Deaths'],data=ds)"
   ]
  },
  {
   "cell_type": "code",
   "execution_count": 28,
   "metadata": {},
   "outputs": [
    {
     "data": {
      "text/html": [
       "<div>\n",
       "<style scoped>\n",
       "    .dataframe tbody tr th:only-of-type {\n",
       "        vertical-align: middle;\n",
       "    }\n",
       "\n",
       "    .dataframe tbody tr th {\n",
       "        vertical-align: top;\n",
       "    }\n",
       "\n",
       "    .dataframe thead th {\n",
       "        text-align: right;\n",
       "    }\n",
       "</style>\n",
       "<table border=\"1\" class=\"dataframe\">\n",
       "  <thead>\n",
       "    <tr style=\"text-align: right;\">\n",
       "      <th></th>\n",
       "      <th>Confirmed</th>\n",
       "      <th>Recovered</th>\n",
       "      <th>Deaths</th>\n",
       "    </tr>\n",
       "  </thead>\n",
       "  <tbody>\n",
       "    <tr>\n",
       "      <th>Confirmed</th>\n",
       "      <td>1.000000</td>\n",
       "      <td>0.810991</td>\n",
       "      <td>0.929718</td>\n",
       "    </tr>\n",
       "    <tr>\n",
       "      <th>Recovered</th>\n",
       "      <td>0.810991</td>\n",
       "      <td>1.000000</td>\n",
       "      <td>0.778094</td>\n",
       "    </tr>\n",
       "    <tr>\n",
       "      <th>Deaths</th>\n",
       "      <td>0.929718</td>\n",
       "      <td>0.778094</td>\n",
       "      <td>1.000000</td>\n",
       "    </tr>\n",
       "  </tbody>\n",
       "</table>\n",
       "</div>"
      ],
      "text/plain": [
       "           Confirmed  Recovered    Deaths\n",
       "Confirmed   1.000000   0.810991  0.929718\n",
       "Recovered   0.810991   1.000000  0.778094\n",
       "Deaths      0.929718   0.778094  1.000000"
      ]
     },
     "execution_count": 28,
     "metadata": {},
     "output_type": "execute_result"
    }
   ],
   "source": [
    "dscorr=ds.corr()\n",
    "dscorr"
   ]
  },
  {
   "cell_type": "code",
   "execution_count": 29,
   "metadata": {},
   "outputs": [
    {
     "data": {
      "text/plain": [
       "<AxesSubplot:>"
      ]
     },
     "execution_count": 29,
     "metadata": {},
     "output_type": "execute_result"
    },
    {
     "data": {
      "image/png": "[encoded data removed]",
      "text/plain": [
       "<Figure size 432x288 with 2 Axes>"
      ]
     },
     "metadata": {
      "needs_background": "light"
     },
     "output_type": "display_data"
    }
   ],
   "source": [
    "sns.heatmap(dscorr,annot=True)"
   ]
  },
  {
   "cell_type": "code",
   "execution_count": 30,
   "metadata": {
    "scrolled": true
   },
   "outputs": [
    {
     "data": {
      "text/plain": [
       "Confirmed       AxesSubplot(0.125,0.749828;0.021648x0.130172)\n",
       "Recovered    AxesSubplot(0.150978,0.749828;0.021648x0.130172)\n",
       "Deaths       AxesSubplot(0.176955,0.749828;0.021648x0.130172)\n",
       "dtype: object"
      ]
     },
     "execution_count": 30,
     "metadata": {},
     "output_type": "execute_result"
    },
    {
     "data": {
      "image/png": "[encoded data removed]",
      "text/plain": [
       "<Figure size 3600x1440 with 150 Axes>"
      ]
     },
     "metadata": {
      "needs_background": "light"
     },
     "output_type": "display_data"
    }
   ],
   "source": [
    "ds.plot(kind='box',subplots=True,layout=(5,30),figsize=(50,20))"
   ]
  },
  {
   "cell_type": "code",
   "execution_count": 33,
   "metadata": {},
   "outputs": [
    {
     "name": "stdout",
     "output_type": "stream",
     "text": [
      "<class 'pandas.core.frame.DataFrame'>\n",
      "RangeIndex: 23688 entries, 0 to 23687\n",
      "Data columns (total 5 columns):\n",
      " #   Column     Non-Null Count  Dtype \n",
      "---  ------     --------------  ----- \n",
      " 0   Date       23688 non-null  object\n",
      " 1   Country    23688 non-null  object\n",
      " 2   Confirmed  23688 non-null  int64 \n",
      " 3   Recovered  23688 non-null  int64 \n",
      " 4   Deaths     23688 non-null  int64 \n",
      "dtypes: int64(3), object(2)\n",
      "memory usage: 925.4+ KB\n"
     ]
    }
   ],
   "source": [
    "ds.info()"
   ]
  },
  {
   "cell_type": "code",
   "execution_count": 34,
   "metadata": {},
   "outputs": [],
   "source": [
    "ds=ds.drop(['Country'],axis=1)"
   ]
  },
  {
   "cell_type": "code",
   "execution_count": 35,
   "metadata": {},
   "outputs": [],
   "source": [
    "ds=ds.drop(['Date'],axis=1)"
   ]
  },
  {
   "cell_type": "code",
   "execution_count": 36,
   "metadata": {},
   "outputs": [],
   "source": [
    "ds['Active']= ds['Confirmed']-ds['Recovered']"
   ]
  },
  {
   "cell_type": "code",
   "execution_count": 37,
   "metadata": {},
   "outputs": [
    {
     "data": {
      "text/html": [
       "<div>\n",
       "<style scoped>\n",
       "    .dataframe tbody tr th:only-of-type {\n",
       "        vertical-align: middle;\n",
       "    }\n",
       "\n",
       "    .dataframe tbody tr th {\n",
       "        vertical-align: top;\n",
       "    }\n",
       "\n",
       "    .dataframe thead th {\n",
       "        text-align: right;\n",
       "    }\n",
       "</style>\n",
       "<table border=\"1\" class=\"dataframe\">\n",
       "  <thead>\n",
       "    <tr style=\"text-align: right;\">\n",
       "      <th></th>\n",
       "      <th>Confirmed</th>\n",
       "      <th>Recovered</th>\n",
       "      <th>Deaths</th>\n",
       "      <th>Active</th>\n",
       "    </tr>\n",
       "  </thead>\n",
       "  <tbody>\n",
       "    <tr>\n",
       "      <th>0</th>\n",
       "      <td>0</td>\n",
       "      <td>0</td>\n",
       "      <td>0</td>\n",
       "      <td>0</td>\n",
       "    </tr>\n",
       "    <tr>\n",
       "      <th>1</th>\n",
       "      <td>0</td>\n",
       "      <td>0</td>\n",
       "      <td>0</td>\n",
       "      <td>0</td>\n",
       "    </tr>\n",
       "    <tr>\n",
       "      <th>2</th>\n",
       "      <td>0</td>\n",
       "      <td>0</td>\n",
       "      <td>0</td>\n",
       "      <td>0</td>\n",
       "    </tr>\n",
       "    <tr>\n",
       "      <th>3</th>\n",
       "      <td>0</td>\n",
       "      <td>0</td>\n",
       "      <td>0</td>\n",
       "      <td>0</td>\n",
       "    </tr>\n",
       "    <tr>\n",
       "      <th>4</th>\n",
       "      <td>0</td>\n",
       "      <td>0</td>\n",
       "      <td>0</td>\n",
       "      <td>0</td>\n",
       "    </tr>\n",
       "    <tr>\n",
       "      <th>...</th>\n",
       "      <td>...</td>\n",
       "      <td>...</td>\n",
       "      <td>...</td>\n",
       "      <td>...</td>\n",
       "    </tr>\n",
       "    <tr>\n",
       "      <th>23683</th>\n",
       "      <td>429</td>\n",
       "      <td>365</td>\n",
       "      <td>3</td>\n",
       "      <td>64</td>\n",
       "    </tr>\n",
       "    <tr>\n",
       "      <th>23684</th>\n",
       "      <td>9</td>\n",
       "      <td>6</td>\n",
       "      <td>1</td>\n",
       "      <td>3</td>\n",
       "    </tr>\n",
       "    <tr>\n",
       "      <th>23685</th>\n",
       "      <td>249</td>\n",
       "      <td>10</td>\n",
       "      <td>49</td>\n",
       "      <td>239</td>\n",
       "    </tr>\n",
       "    <tr>\n",
       "      <th>23686</th>\n",
       "      <td>920</td>\n",
       "      <td>336</td>\n",
       "      <td>7</td>\n",
       "      <td>584</td>\n",
       "    </tr>\n",
       "    <tr>\n",
       "      <th>23687</th>\n",
       "      <td>56</td>\n",
       "      <td>25</td>\n",
       "      <td>4</td>\n",
       "      <td>31</td>\n",
       "    </tr>\n",
       "  </tbody>\n",
       "</table>\n",
       "<p>23688 rows × 4 columns</p>\n",
       "</div>"
      ],
      "text/plain": [
       "       Confirmed  Recovered  Deaths  Active\n",
       "0              0          0       0       0\n",
       "1              0          0       0       0\n",
       "2              0          0       0       0\n",
       "3              0          0       0       0\n",
       "4              0          0       0       0\n",
       "...          ...        ...     ...     ...\n",
       "23683        429        365       3      64\n",
       "23684          9          6       1       3\n",
       "23685        249         10      49     239\n",
       "23686        920        336       7     584\n",
       "23687         56         25       4      31\n",
       "\n",
       "[23688 rows x 4 columns]"
      ]
     },
     "execution_count": 37,
     "metadata": {},
     "output_type": "execute_result"
    }
   ],
   "source": [
    "ds"
   ]
  },
  {
   "cell_type": "code",
   "execution_count": 38,
   "metadata": {},
   "outputs": [],
   "source": [
    "dscorrr=ds.corr()"
   ]
  },
  {
   "cell_type": "code",
   "execution_count": 39,
   "metadata": {},
   "outputs": [
    {
     "data": {
      "text/plain": [
       "<AxesSubplot:>"
      ]
     },
     "execution_count": 39,
     "metadata": {},
     "output_type": "execute_result"
    },
    {
     "data": {
      "image/png": "[encoded data removed]",
      "text/plain": [
       "<Figure size 432x288 with 2 Axes>"
      ]
     },
     "metadata": {
      "needs_background": "light"
     },
     "output_type": "display_data"
    }
   ],
   "source": [
    "sns.heatmap(dscorrr,annot=True)"
   ]
  },
  {
   "cell_type": "code",
   "execution_count": 40,
   "metadata": {},
   "outputs": [
    {
     "name": "stdout",
     "output_type": "stream",
     "text": [
      "<class 'pandas.core.frame.DataFrame'>\n",
      "RangeIndex: 23688 entries, 0 to 23687\n",
      "Data columns (total 4 columns):\n",
      " #   Column     Non-Null Count  Dtype\n",
      "---  ------     --------------  -----\n",
      " 0   Confirmed  23688 non-null  int64\n",
      " 1   Recovered  23688 non-null  int64\n",
      " 2   Deaths     23688 non-null  int64\n",
      " 3   Active     23688 non-null  int64\n",
      "dtypes: int64(4)\n",
      "memory usage: 740.4 KB\n"
     ]
    }
   ],
   "source": [
    "ds.info()"
   ]
  },
  {
   "cell_type": "code",
   "execution_count": 41,
   "metadata": {},
   "outputs": [
    {
     "data": {
      "text/plain": [
       "array([[0.13641539, 0.17049719, 0.13197356, 0.11467281],\n",
       "       [0.13641539, 0.17049719, 0.13197356, 0.11467281],\n",
       "       [0.13641539, 0.17049719, 0.13197356, 0.11467281],\n",
       "       ...,\n",
       "       [0.13215314, 0.16983681, 0.11970126, 0.10958576],\n",
       "       [0.12066732, 0.1483084 , 0.13022038, 0.10224253],\n",
       "       [0.13545681, 0.16884624, 0.13097174, 0.11401298]])"
      ]
     },
     "execution_count": 41,
     "metadata": {},
     "output_type": "execute_result"
    }
   ],
   "source": [
    "from scipy.stats import zscore\n",
    "z=np.abs(zscore(ds))\n",
    "z"
   ]
  },
  {
   "cell_type": "code",
   "execution_count": 42,
   "metadata": {
    "scrolled": false
   },
   "outputs": [
    {
     "name": "stdout",
     "output_type": "stream",
     "text": [
      "(array([ 7932,  8120,  8308,  8496,  8684,  8872,  9060,  9248,  9436,\n",
      "        9624,  9812, 10000, 10188, 10376, 10564, 10752, 10940, 11128,\n",
      "       11316, 11504, 11692, 11880, 12068, 12256, 12444, 12632, 12820,\n",
      "       12958, 13008, 13146, 13146, 13196, 13245, 13334, 13334, 13384,\n",
      "       13433, 13522, 13522, 13572, 13621, 13710, 13710, 13760, 13809,\n",
      "       13898, 13898, 13948, 13997, 14070, 14086, 14086, 14136, 14185,\n",
      "       14258, 14274, 14274, 14274, 14324, 14373, 14446, 14462, 14462,\n",
      "       14462, 14512, 14561, 14634, 14634, 14650, 14650, 14650, 14700,\n",
      "       14730, 14749, 14822, 14822, 14838, 14838, 14838, 14888, 14914,\n",
      "       14918, 14937, 15010, 15010, 15026, 15026, 15026, 15076, 15102,\n",
      "       15106, 15125, 15198, 15198, 15214, 15214, 15214, 15264, 15290,\n",
      "       15294, 15313, 15386, 15386, 15402, 15402, 15402, 15452, 15478,\n",
      "       15482, 15501, 15574, 15574, 15590, 15590, 15590, 15594, 15640,\n",
      "       15666, 15670, 15685, 15689, 15762, 15762, 15778, 15778, 15778,\n",
      "       15782, 15828, 15854, 15858, 15873, 15877, 15950, 15950, 15966,\n",
      "       15966, 15966, 15966, 15970, 16016, 16042, 16046, 16061, 16065,\n",
      "       16138, 16138, 16138, 16154, 16154, 16154, 16154, 16158, 16204,\n",
      "       16230, 16234, 16249, 16253, 16326, 16326, 16326, 16342, 16342,\n",
      "       16342, 16342, 16346, 16392, 16418, 16422, 16437, 16441, 16514,\n",
      "       16514, 16514, 16530, 16530, 16530, 16530, 16534, 16580, 16606,\n",
      "       16610, 16625, 16629, 16702, 16702, 16702, 16718, 16718, 16718,\n",
      "       16718, 16722, 16768, 16794, 16798, 16813, 16817, 16817, 16890,\n",
      "       16890, 16890, 16906, 16906, 16906, 16906, 16910, 16956, 16982,\n",
      "       16986, 17001, 17005, 17005, 17005, 17078, 17078, 17078, 17094,\n",
      "       17094, 17094, 17094, 17098, 17144, 17170, 17174, 17189, 17193,\n",
      "       17193, 17193, 17266, 17266, 17266, 17282, 17282, 17282, 17282,\n",
      "       17286, 17332, 17358, 17362, 17377, 17381, 17381, 17381, 17454,\n",
      "       17454, 17454, 17470, 17470, 17470, 17470, 17474, 17520, 17546,\n",
      "       17550, 17565, 17569, 17569, 17569, 17642, 17642, 17642, 17658,\n",
      "       17658, 17658, 17658, 17662, 17708, 17734, 17738, 17753, 17757,\n",
      "       17757, 17757, 17830, 17830, 17830, 17846, 17846, 17846, 17846,\n",
      "       17850, 17850, 17896, 17922, 17926, 17941, 17945, 17945, 17945,\n",
      "       18018, 18018, 18018, 18034, 18034, 18034, 18034, 18038, 18038,\n",
      "       18084, 18110, 18114, 18129, 18133, 18133, 18133, 18206, 18206,\n",
      "       18206, 18222, 18222, 18222, 18222, 18226, 18226, 18272, 18298,\n",
      "       18302, 18317, 18321, 18321, 18321, 18394, 18394, 18394, 18410,\n",
      "       18410, 18410, 18410, 18414, 18414, 18460, 18486, 18486, 18490,\n",
      "       18505, 18509, 18509, 18509, 18582, 18582, 18582, 18598, 18598,\n",
      "       18598, 18598, 18602, 18602, 18648, 18674, 18674, 18678, 18693,\n",
      "       18697, 18697, 18697, 18770, 18770, 18770, 18785, 18786, 18786,\n",
      "       18786, 18786, 18790, 18790, 18836, 18862, 18862, 18866, 18881,\n",
      "       18885, 18885, 18885, 18958, 18958, 18958, 18973, 18974, 18974,\n",
      "       18974, 18974, 18978, 18978, 19024, 19050, 19050, 19054, 19069,\n",
      "       19073, 19073, 19073, 19146, 19146, 19146, 19161, 19162, 19162,\n",
      "       19162, 19162, 19166, 19166, 19166, 19212, 19238, 19238, 19242,\n",
      "       19257, 19261, 19261, 19261, 19334, 19334, 19334, 19349, 19350,\n",
      "       19350, 19350, 19350, 19354, 19354, 19354, 19400, 19426, 19426,\n",
      "       19430, 19445, 19449, 19449, 19449, 19522, 19522, 19522, 19537,\n",
      "       19538, 19538, 19538, 19538, 19542, 19542, 19542, 19575, 19588,\n",
      "       19614, 19614, 19618, 19633, 19637, 19637, 19637, 19710, 19710,\n",
      "       19710, 19725, 19726, 19726, 19726, 19726, 19730, 19730, 19730,\n",
      "       19763, 19776, 19802, 19802, 19806, 19821, 19825, 19825, 19825,\n",
      "       19898, 19898, 19898, 19913, 19914, 19914, 19914, 19914, 19918,\n",
      "       19918, 19918, 19951, 19964, 19990, 19990, 19994, 20009, 20013,\n",
      "       20013, 20013, 20068, 20086, 20086, 20086, 20101, 20102, 20102,\n",
      "       20102, 20102, 20106, 20106, 20106, 20139, 20152, 20178, 20178,\n",
      "       20182, 20197, 20201, 20201, 20201, 20256, 20256, 20274, 20274,\n",
      "       20274, 20289, 20290, 20290, 20290, 20290, 20294, 20294, 20294,\n",
      "       20327, 20340, 20366, 20366, 20370, 20385, 20389, 20389, 20389,\n",
      "       20444, 20444, 20462, 20462, 20462, 20477, 20478, 20478, 20478,\n",
      "       20478, 20482, 20482, 20482, 20515, 20528, 20554, 20554, 20558,\n",
      "       20573, 20577, 20577, 20577, 20632, 20632, 20650, 20650, 20650,\n",
      "       20665, 20666, 20666, 20666, 20666, 20670, 20670, 20670, 20703,\n",
      "       20716, 20742, 20742, 20746, 20761, 20765, 20765, 20765, 20820,\n",
      "       20820, 20838, 20838, 20838, 20853, 20854, 20854, 20854, 20854,\n",
      "       20858, 20858, 20858, 20891, 20904, 20930, 20930, 20934, 20949,\n",
      "       20953, 20953, 20953, 21008, 21008, 21026, 21026, 21026, 21041,\n",
      "       21042, 21042, 21042, 21042, 21046, 21046, 21046, 21079, 21079,\n",
      "       21079, 21092, 21118, 21118, 21122, 21137, 21141, 21141, 21141,\n",
      "       21196, 21196, 21214, 21214, 21214, 21229, 21230, 21230, 21230,\n",
      "       21230, 21234, 21234, 21234, 21267, 21267, 21267, 21280, 21306,\n",
      "       21306, 21310, 21325, 21329, 21329, 21329, 21384, 21384, 21384,\n",
      "       21402, 21402, 21402, 21417, 21418, 21418, 21418, 21418, 21422,\n",
      "       21422, 21422, 21455, 21455, 21455, 21468, 21494, 21494, 21498,\n",
      "       21513, 21517, 21517, 21517, 21572, 21572, 21572, 21590, 21590,\n",
      "       21590, 21605, 21606, 21606, 21606, 21606, 21610, 21610, 21610,\n",
      "       21643, 21643, 21643, 21656, 21682, 21682, 21686, 21701, 21705,\n",
      "       21705, 21705, 21760, 21760, 21760, 21778, 21778, 21778, 21793,\n",
      "       21794, 21794, 21794, 21794, 21798, 21798, 21798, 21831, 21831,\n",
      "       21831, 21831, 21844, 21870, 21870, 21874, 21889, 21893, 21893,\n",
      "       21893, 21948, 21948, 21948, 21966, 21966, 21966, 21981, 21982,\n",
      "       21982, 21982, 21982, 21986, 21986, 21986, 22019, 22019, 22019,\n",
      "       22019, 22032, 22058, 22058, 22062, 22077, 22081, 22081, 22081,\n",
      "       22136, 22136, 22136, 22154, 22154, 22154, 22169, 22170, 22170,\n",
      "       22170, 22170, 22174, 22174, 22174, 22207, 22207, 22207, 22207,\n",
      "       22220, 22246, 22246, 22250, 22265, 22269, 22269, 22269, 22324,\n",
      "       22324, 22324, 22342, 22342, 22342, 22357, 22358, 22358, 22358,\n",
      "       22358, 22362, 22362, 22362, 22395, 22395, 22395, 22395, 22408,\n",
      "       22434, 22434, 22438, 22453, 22457, 22457, 22457, 22512, 22512,\n",
      "       22512, 22530, 22530, 22530, 22545, 22546, 22546, 22546, 22546,\n",
      "       22550, 22550, 22550, 22583, 22583, 22583, 22583, 22596, 22622,\n",
      "       22622, 22626, 22639, 22641, 22645, 22645, 22645, 22700, 22700,\n",
      "       22700, 22718, 22718, 22718, 22733, 22734, 22734, 22734, 22734,\n",
      "       22738, 22738, 22738, 22771, 22771, 22771, 22771, 22784, 22810,\n",
      "       22810, 22814, 22827, 22829, 22833, 22833, 22833, 22888, 22888,\n",
      "       22888, 22906, 22906, 22906, 22921, 22922, 22922, 22922, 22922,\n",
      "       22926, 22926, 22926, 22959, 22959, 22959, 22959, 22972, 22998,\n",
      "       22998, 23002, 23015, 23017, 23021, 23021, 23021, 23076, 23076,\n",
      "       23076, 23094, 23094, 23094, 23109, 23110, 23110, 23110, 23110,\n",
      "       23114, 23114, 23114, 23147, 23147, 23147, 23147, 23160, 23186,\n",
      "       23186, 23190, 23203, 23205, 23209, 23209, 23209, 23258, 23264,\n",
      "       23264, 23264, 23282, 23282, 23282, 23297, 23298, 23298, 23298,\n",
      "       23298, 23302, 23302, 23302, 23335, 23335, 23335, 23335, 23348,\n",
      "       23374, 23374, 23378, 23391, 23393, 23397, 23397, 23397, 23425,\n",
      "       23446, 23452, 23452, 23452, 23470, 23470, 23470, 23485, 23486,\n",
      "       23486, 23486, 23486, 23490, 23490, 23490, 23523, 23523, 23523,\n",
      "       23523, 23536, 23562, 23562, 23566, 23579, 23581, 23585, 23585,\n",
      "       23585, 23613, 23634, 23640, 23640, 23640, 23647, 23658, 23658,\n",
      "       23658, 23673, 23674, 23674, 23674, 23674, 23678, 23678, 23678],\n",
      "      dtype=int64), array([1, 1, 1, 1, 1, 1, 1, 1, 1, 1, 1, 1, 1, 1, 1, 1, 1, 1, 1, 1, 1, 1,\n",
      "       1, 1, 1, 1, 1, 3, 1, 0, 3, 1, 2, 0, 3, 1, 2, 0, 3, 1, 2, 0, 3, 1,\n",
      "       2, 0, 3, 1, 2, 2, 0, 3, 1, 2, 2, 0, 2, 3, 1, 2, 2, 0, 2, 3, 1, 2,\n",
      "       1, 2, 0, 2, 3, 1, 1, 2, 1, 2, 0, 2, 3, 1, 2, 1, 2, 1, 2, 0, 2, 3,\n",
      "       1, 2, 1, 2, 1, 2, 0, 2, 3, 1, 2, 1, 2, 1, 2, 0, 2, 3, 1, 2, 1, 2,\n",
      "       1, 2, 0, 2, 3, 2, 1, 2, 1, 1, 2, 1, 2, 0, 2, 3, 2, 1, 2, 1, 1, 2,\n",
      "       1, 2, 0, 1, 2, 3, 2, 1, 2, 1, 1, 2, 0, 1, 2, 0, 1, 2, 3, 2, 1, 2,\n",
      "       1, 1, 2, 0, 1, 2, 0, 1, 2, 3, 2, 1, 2, 1, 1, 2, 0, 1, 2, 0, 1, 2,\n",
      "       3, 2, 1, 2, 1, 1, 2, 0, 1, 2, 0, 1, 2, 3, 2, 1, 2, 1, 1, 1, 2, 0,\n",
      "       1, 2, 0, 1, 2, 3, 2, 1, 2, 1, 1, 0, 1, 2, 0, 1, 2, 0, 1, 2, 3, 2,\n",
      "       1, 2, 1, 1, 0, 1, 2, 0, 1, 2, 0, 1, 2, 3, 2, 1, 2, 1, 1, 0, 1, 2,\n",
      "       0, 1, 2, 0, 1, 2, 3, 2, 1, 2, 1, 1, 0, 1, 2, 0, 1, 2, 0, 1, 2, 3,\n",
      "       2, 1, 2, 1, 1, 0, 1, 2, 0, 1, 2, 0, 1, 2, 3, 2, 3, 1, 2, 1, 1, 0,\n",
      "       1, 2, 0, 1, 2, 0, 1, 2, 3, 2, 3, 1, 2, 1, 1, 0, 1, 2, 0, 1, 2, 0,\n",
      "       1, 2, 3, 2, 3, 1, 2, 1, 1, 0, 1, 2, 0, 1, 2, 0, 1, 2, 3, 2, 3, 1,\n",
      "       1, 2, 1, 1, 0, 1, 2, 0, 1, 2, 0, 1, 2, 3, 2, 3, 1, 1, 2, 1, 1, 0,\n",
      "       1, 2, 0, 1, 2, 1, 0, 1, 2, 3, 2, 3, 1, 1, 2, 1, 1, 0, 1, 2, 0, 1,\n",
      "       2, 1, 0, 1, 2, 3, 2, 3, 1, 1, 2, 1, 1, 0, 1, 2, 0, 1, 2, 1, 0, 1,\n",
      "       2, 3, 0, 2, 3, 1, 1, 2, 1, 1, 0, 1, 2, 0, 1, 2, 1, 0, 1, 2, 3, 0,\n",
      "       2, 3, 1, 1, 2, 1, 1, 0, 1, 2, 0, 1, 2, 1, 0, 1, 2, 3, 0, 2, 3, 1,\n",
      "       1, 1, 2, 1, 1, 0, 1, 2, 0, 1, 2, 1, 0, 1, 2, 3, 0, 2, 3, 1, 1, 1,\n",
      "       2, 1, 1, 0, 1, 2, 0, 1, 2, 1, 0, 1, 2, 3, 0, 2, 3, 1, 1, 1, 2, 1,\n",
      "       1, 0, 1, 2, 3, 0, 1, 2, 1, 0, 1, 2, 3, 0, 2, 3, 1, 1, 1, 2, 1, 1,\n",
      "       0, 1, 2, 0, 3, 0, 1, 2, 1, 0, 1, 2, 3, 0, 2, 3, 1, 1, 1, 2, 1, 1,\n",
      "       0, 1, 2, 0, 3, 0, 1, 2, 1, 0, 1, 2, 3, 0, 2, 3, 1, 1, 1, 2, 1, 1,\n",
      "       0, 1, 2, 0, 3, 0, 1, 2, 1, 0, 1, 2, 3, 0, 2, 3, 1, 1, 1, 2, 1, 1,\n",
      "       0, 1, 2, 0, 3, 0, 1, 2, 1, 0, 1, 2, 3, 0, 2, 3, 1, 1, 1, 2, 1, 1,\n",
      "       0, 1, 2, 0, 3, 0, 1, 2, 1, 0, 1, 2, 3, 0, 2, 3, 0, 1, 2, 1, 1, 2,\n",
      "       1, 1, 0, 1, 2, 0, 3, 0, 1, 2, 1, 0, 1, 2, 3, 0, 2, 3, 0, 1, 2, 1,\n",
      "       1, 2, 1, 1, 0, 1, 2, 0, 1, 3, 0, 1, 2, 1, 0, 1, 2, 3, 0, 2, 3, 0,\n",
      "       1, 2, 1, 1, 2, 1, 1, 0, 1, 2, 0, 1, 3, 0, 1, 2, 1, 0, 1, 2, 3, 0,\n",
      "       2, 3, 0, 1, 2, 1, 1, 2, 1, 1, 0, 1, 2, 0, 1, 3, 0, 1, 2, 1, 0, 1,\n",
      "       2, 3, 0, 2, 3, 0, 1, 2, 3, 1, 1, 2, 1, 1, 0, 1, 2, 0, 1, 3, 0, 1,\n",
      "       2, 1, 0, 1, 2, 3, 0, 2, 3, 0, 1, 2, 3, 1, 1, 2, 1, 1, 0, 1, 2, 0,\n",
      "       1, 3, 0, 1, 2, 1, 0, 1, 2, 3, 0, 2, 3, 0, 1, 2, 3, 1, 1, 2, 1, 1,\n",
      "       0, 1, 2, 0, 1, 3, 0, 1, 2, 1, 0, 1, 2, 3, 0, 2, 3, 0, 1, 2, 3, 1,\n",
      "       1, 2, 1, 1, 0, 1, 2, 0, 1, 3, 0, 1, 2, 1, 0, 1, 2, 3, 0, 2, 3, 0,\n",
      "       1, 2, 3, 1, 1, 2, 1, 1, 1, 0, 1, 2, 0, 1, 3, 0, 1, 2, 1, 0, 1, 2,\n",
      "       3, 0, 2, 3, 0, 1, 2, 3, 1, 1, 2, 1, 1, 1, 0, 1, 2, 0, 1, 3, 0, 1,\n",
      "       2, 1, 0, 1, 2, 3, 0, 2, 3, 0, 1, 2, 3, 1, 1, 2, 1, 1, 1, 0, 1, 2,\n",
      "       0, 1, 3, 0, 1, 2, 1, 0, 1, 2, 3, 0, 2, 3, 0, 1, 2, 3, 1, 1, 2, 1,\n",
      "       1, 1, 0, 1, 2, 1, 0, 1, 3, 0, 1, 2, 1, 0, 1, 2, 3, 0, 2, 3, 0, 1,\n",
      "       2, 3, 1, 1, 2, 1, 1, 1, 0, 1, 2, 1, 1, 0, 1, 3, 0, 1, 2, 1, 0, 1,\n",
      "       2, 3, 0, 2, 3, 0, 1, 2, 3, 1, 1, 2, 1, 1, 1, 0, 1, 2, 1, 1, 0, 1,\n"
     ]
    },
    {
     "name": "stdout",
     "output_type": "stream",
     "text": [
      "       3, 1, 0, 1, 2, 1, 0, 1, 2, 3, 0, 2, 3], dtype=int64))\n"
     ]
    }
   ],
   "source": [
    "threshold=3\n",
    "print(np.where(z>3))"
   ]
  },
  {
   "cell_type": "code",
   "execution_count": 43,
   "metadata": {},
   "outputs": [],
   "source": [
    "ds_new=ds[(z<3).all(axis=1)]"
   ]
  },
  {
   "cell_type": "code",
   "execution_count": 44,
   "metadata": {},
   "outputs": [
    {
     "data": {
      "text/html": [
       "<div>\n",
       "<style scoped>\n",
       "    .dataframe tbody tr th:only-of-type {\n",
       "        vertical-align: middle;\n",
       "    }\n",
       "\n",
       "    .dataframe tbody tr th {\n",
       "        vertical-align: top;\n",
       "    }\n",
       "\n",
       "    .dataframe thead th {\n",
       "        text-align: right;\n",
       "    }\n",
       "</style>\n",
       "<table border=\"1\" class=\"dataframe\">\n",
       "  <thead>\n",
       "    <tr style=\"text-align: right;\">\n",
       "      <th></th>\n",
       "      <th>Confirmed</th>\n",
       "      <th>Recovered</th>\n",
       "      <th>Deaths</th>\n",
       "      <th>Active</th>\n",
       "    </tr>\n",
       "  </thead>\n",
       "  <tbody>\n",
       "    <tr>\n",
       "      <th>0</th>\n",
       "      <td>0</td>\n",
       "      <td>0</td>\n",
       "      <td>0</td>\n",
       "      <td>0</td>\n",
       "    </tr>\n",
       "    <tr>\n",
       "      <th>1</th>\n",
       "      <td>0</td>\n",
       "      <td>0</td>\n",
       "      <td>0</td>\n",
       "      <td>0</td>\n",
       "    </tr>\n",
       "    <tr>\n",
       "      <th>2</th>\n",
       "      <td>0</td>\n",
       "      <td>0</td>\n",
       "      <td>0</td>\n",
       "      <td>0</td>\n",
       "    </tr>\n",
       "    <tr>\n",
       "      <th>3</th>\n",
       "      <td>0</td>\n",
       "      <td>0</td>\n",
       "      <td>0</td>\n",
       "      <td>0</td>\n",
       "    </tr>\n",
       "    <tr>\n",
       "      <th>4</th>\n",
       "      <td>0</td>\n",
       "      <td>0</td>\n",
       "      <td>0</td>\n",
       "      <td>0</td>\n",
       "    </tr>\n",
       "    <tr>\n",
       "      <th>...</th>\n",
       "      <td>...</td>\n",
       "      <td>...</td>\n",
       "      <td>...</td>\n",
       "      <td>...</td>\n",
       "    </tr>\n",
       "    <tr>\n",
       "      <th>23683</th>\n",
       "      <td>429</td>\n",
       "      <td>365</td>\n",
       "      <td>3</td>\n",
       "      <td>64</td>\n",
       "    </tr>\n",
       "    <tr>\n",
       "      <th>23684</th>\n",
       "      <td>9</td>\n",
       "      <td>6</td>\n",
       "      <td>1</td>\n",
       "      <td>3</td>\n",
       "    </tr>\n",
       "    <tr>\n",
       "      <th>23685</th>\n",
       "      <td>249</td>\n",
       "      <td>10</td>\n",
       "      <td>49</td>\n",
       "      <td>239</td>\n",
       "    </tr>\n",
       "    <tr>\n",
       "      <th>23686</th>\n",
       "      <td>920</td>\n",
       "      <td>336</td>\n",
       "      <td>7</td>\n",
       "      <td>584</td>\n",
       "    </tr>\n",
       "    <tr>\n",
       "      <th>23687</th>\n",
       "      <td>56</td>\n",
       "      <td>25</td>\n",
       "      <td>4</td>\n",
       "      <td>31</td>\n",
       "    </tr>\n",
       "  </tbody>\n",
       "</table>\n",
       "<p>23175 rows × 4 columns</p>\n",
       "</div>"
      ],
      "text/plain": [
       "       Confirmed  Recovered  Deaths  Active\n",
       "0              0          0       0       0\n",
       "1              0          0       0       0\n",
       "2              0          0       0       0\n",
       "3              0          0       0       0\n",
       "4              0          0       0       0\n",
       "...          ...        ...     ...     ...\n",
       "23683        429        365       3      64\n",
       "23684          9          6       1       3\n",
       "23685        249         10      49     239\n",
       "23686        920        336       7     584\n",
       "23687         56         25       4      31\n",
       "\n",
       "[23175 rows x 4 columns]"
      ]
     },
     "execution_count": 44,
     "metadata": {},
     "output_type": "execute_result"
    }
   ],
   "source": [
    "ds_new"
   ]
  },
  {
   "cell_type": "code",
   "execution_count": 45,
   "metadata": {},
   "outputs": [
    {
     "data": {
      "text/plain": [
       "Confirmed    18.674502\n",
       "Recovered    10.662286\n",
       "Deaths       14.218167\n",
       "Active       20.003813\n",
       "dtype: float64"
      ]
     },
     "execution_count": 45,
     "metadata": {},
     "output_type": "execute_result"
    }
   ],
   "source": [
    "ds.skew()"
   ]
  },
  {
   "cell_type": "code",
   "execution_count": 46,
   "metadata": {},
   "outputs": [
    {
     "data": {
      "image/png": "[encoded data removed]",
      "text/plain": [
       "<Figure size 432x288 with 1 Axes>"
      ]
     },
     "metadata": {
      "needs_background": "light"
     },
     "output_type": "display_data"
    },
    {
     "data": {
      "image/png": "[encoded data removed]",
      "text/plain": [
       "<Figure size 432x288 with 1 Axes>"
      ]
     },
     "metadata": {
      "needs_background": "light"
     },
     "output_type": "display_data"
    },
    {
     "data": {
      "image/png": "[encoded data removed]",
      "text/plain": [
       "<Figure size 432x288 with 1 Axes>"
      ]
     },
     "metadata": {
      "needs_background": "light"
     },
     "output_type": "display_data"
    },
    {
     "data": {
      "image/png": "[encoded data removed]",
      "text/plain": [
       "<Figure size 432x288 with 1 Axes>"
      ]
     },
     "metadata": {
      "needs_background": "light"
     },
     "output_type": "display_data"
    }
   ],
   "source": [
    "i = ds.columns\n",
    "\n",
    "for val in i:\n",
    "    sns.distplot(ds[i])\n",
    "    plt.show()"
   ]
  },
  {
   "cell_type": "code",
   "execution_count": 47,
   "metadata": {},
   "outputs": [],
   "source": [
    "from sklearn.preprocessing import power_transform"
   ]
  },
  {
   "cell_type": "code",
   "execution_count": 48,
   "metadata": {},
   "outputs": [],
   "source": [
    "x=ds[['Recovered','Active']]"
   ]
  },
  {
   "cell_type": "code",
   "execution_count": 49,
   "metadata": {},
   "outputs": [],
   "source": [
    "y=(ds['Active']-ds['Recovered'])"
   ]
  },
  {
   "cell_type": "code",
   "execution_count": 51,
   "metadata": {},
   "outputs": [],
   "source": [
    "from sklearn.model_selection import train_test_split\n",
    "from sklearn.linear_model import LinearRegression\n",
    "from sklearn.preprocessing import StandardScaler\n",
    "from sklearn.metrics import r2_score"
   ]
  },
  {
   "cell_type": "code",
   "execution_count": 52,
   "metadata": {},
   "outputs": [],
   "source": [
    "sc = StandardScaler()\n",
    "\n",
    "x=sc.fit_transform(x)\n",
    "\n",
    "lr=LinearRegression()"
   ]
  },
  {
   "cell_type": "code",
   "execution_count": 53,
   "metadata": {},
   "outputs": [
    {
     "name": "stdout",
     "output_type": "stream",
     "text": [
      "Best Accuracy 100.0 found on random_state 30\n"
     ]
    }
   ],
   "source": [
    "best_rstate=0\n",
    "accu=0\n",
    "for i in range(30,200):\n",
    "    x_train,x_test,y_train,y_test=train_test_split(x,y,test_size=.20,random_state=i)\n",
    "    lr.fit(x_train,y_train)\n",
    "    y_pred=lr.predict(x_test)\n",
    "    tempaccu=r2_score(y_test,y_pred)\n",
    "    if tempaccu>accu:\n",
    "        accu=tempaccu\n",
    "        best_rstate=i\n",
    "\n",
    "print(f\"Best Accuracy {accu *100} found on random_state {best_rstate}\")"
   ]
  },
  {
   "cell_type": "code",
   "execution_count": 54,
   "metadata": {},
   "outputs": [
    {
     "data": {
      "text/plain": [
       "1.0"
      ]
     },
     "execution_count": 54,
     "metadata": {},
     "output_type": "execute_result"
    }
   ],
   "source": [
    "x_train,x_test,y_train,y_test=train_test_split(x,y,test_size=.20,random_state=72)\n",
    "lr.fit(x_train,y_train)\n",
    "y_pred=lr.predict(x_test)\n",
    "lr.score(x_train,y_train)"
   ]
  },
  {
   "cell_type": "code",
   "execution_count": 55,
   "metadata": {},
   "outputs": [],
   "source": [
    "from sklearn.linear_model import Lasso,Ridge,ElasticNet\n",
    "from sklearn.model_selection import GridSearchCV\n",
    "from sklearn.tree import DecisionTreeRegressor\n",
    "from sklearn.ensemble import RandomForestRegressor\n",
    "from sklearn.svm import SVR\n",
    "from sklearn.neighbors import KNeighborsRegressor\n",
    "from sklearn.ensemble import AdaBoostRegressor\n",
    "from xgboost.sklearn import XGBRegressor\n",
    "from sklearn.metrics import mean_squared_error,mean_absolute_error"
   ]
  },
  {
   "cell_type": "code",
   "execution_count": 75,
   "metadata": {},
   "outputs": [
    {
     "name": "stdout",
     "output_type": "stream",
     "text": [
      "Accuracy Score of DecisionTreeRegressor() is 1.0\n",
      "Accuracy Score 0.9990501293495507\n",
      "Mean Absolute Error 164.63951034191643\n",
      "Root Mean Squared Error 1251.9469453908375\n",
      "\n",
      "\n",
      "-----------------------------------------------------------------------------------------------------------------\n",
      "Accuracy Score of RandomForestRegressor() is 0.9997932285096289\n",
      "Accuracy Score 0.9991672992523112\n",
      "Mean Absolute Error 120.5143182777543\n",
      "Root Mean Squared Error 1172.1904201852533\n",
      "\n",
      "\n",
      "-----------------------------------------------------------------------------------------------------------------\n",
      "Accuracy Score of KNeighborsRegressor() is 0.9994626109370411\n",
      "Accuracy Score 0.9981563047779097\n",
      "Mean Absolute Error 168.178471929084\n",
      "Root Mean Squared Error 1744.2079255391877\n",
      "\n",
      "\n",
      "-----------------------------------------------------------------------------------------------------------------\n",
      "Accuracy Score of AdaBoostRegressor() is 0.8830127750678478\n",
      "Accuracy Score 0.898255821390801\n",
      "Mean Absolute Error 12442.638155936676\n",
      "Root Mean Squared Error 12957.119837090495\n",
      "\n",
      "\n",
      "-----------------------------------------------------------------------------------------------------------------\n",
      "Accuracy Score of SVR() is -0.004392139402872308\n",
      "Accuracy Score -0.005316737139702488\n",
      "Mean Absolute Error 4761.286981529852\n",
      "Root Mean Squared Error 40729.13127340289\n",
      "\n",
      "\n",
      "-----------------------------------------------------------------------------------------------------------------\n",
      "Accuracy Score of Lasso() is 0.9999999804518921\n",
      "Accuracy Score 0.9999999846549866\n",
      "Mean Absolute Error 1.3328486266588015\n",
      "Root Mean Squared Error 5.031961689811633\n",
      "\n",
      "\n",
      "-----------------------------------------------------------------------------------------------------------------\n",
      "Accuracy Score of Ridge() is 0.9999999871171665\n",
      "Accuracy Score 0.9999999881384297\n",
      "Mean Absolute Error 0.8245884894000031\n",
      "Root Mean Squared Error 4.424098461937894\n",
      "\n",
      "\n",
      "-----------------------------------------------------------------------------------------------------------------\n",
      "Accuracy Score of ElasticNet() is 0.8057606325183403\n",
      "Accuracy Score 0.8120351171297389\n",
      "Mean Absolute Error 2617.0975787894877\n",
      "Root Mean Squared Error 17611.32573061394\n",
      "\n",
      "\n",
      "-----------------------------------------------------------------------------------------------------------------\n",
      "Accuracy Score of XGBRegressor(base_score=0.5, booster='gbtree', colsample_bylevel=1,\n",
      "             colsample_bynode=1, colsample_bytree=1, gamma=0, gpu_id=-1,\n",
      "             importance_type='gain', interaction_constraints='',\n",
      "             learning_rate=0.300000012, max_delta_step=0, max_depth=6,\n",
      "             min_child_weight=1, missing=nan, monotone_constraints='()',\n",
      "             n_estimators=100, n_jobs=4, num_parallel_tree=1, random_state=0,\n",
      "             reg_alpha=0, reg_lambda=1, scale_pos_weight=1, subsample=1,\n",
      "             tree_method='exact', validate_parameters=1, verbosity=None) is 0.9999854857956921\n",
      "Accuracy Score 0.9985427823277284\n",
      "Mean Absolute Error 189.89034161964528\n",
      "Root Mean Squared Error 1550.6575755408446\n",
      "\n",
      "\n",
      "-----------------------------------------------------------------------------------------------------------------\n"
     ]
    }
   ],
   "source": [
    "i=[DecisionTreeRegressor(), RandomForestRegressor(),KNeighborsRegressor(),AdaBoostRegressor(),SVR(),Lasso(),\n",
    "   Ridge(),ElasticNet(),XGBRegressor()]\n",
    "\n",
    "for i in i:\n",
    "    i.fit(x_train,y_train)\n",
    "    j=i.score(x_train,y_train)\n",
    "    predi=i.predict(x_test)\n",
    "    print('Accuracy Score of',i,'is',j)\n",
    "    print(\"Accuracy Score\",r2_score(y_test,predi))\n",
    "    print(\"Mean Absolute Error\", mean_absolute_error(y_test,predi))\n",
    "    print(\"Root Mean Squared Error\", (mean_squared_error(y_test,predi))**0.5 )\n",
    "    print('\\n')\n",
    "    print('-----------------------------------------------------------------------------------------------------------------')"
   ]
  },
  {
   "cell_type": "code",
   "execution_count": 70,
   "metadata": {},
   "outputs": [],
   "source": [
    "from sklearn.model_selection import cross_val_score"
   ]
  },
  {
   "cell_type": "code",
   "execution_count": 72,
   "metadata": {},
   "outputs": [
    {
     "name": "stdout",
     "output_type": "stream",
     "text": [
      "Cross Validation Score of  DecisionTreeRegressor() is [0.99771937 0.9737108  0.9428566  0.43032602 0.94351736]\n",
      "Mean is = 0.8576260308041178 and Standard Deviation is = 0.21462930328288063\n",
      "\n",
      "\n",
      "+++++++++++++++++++++++++++++++++++++++++++++++++++++++++++++++++++++++++++++++++++++++++++++++++++++++++++++++++++\n",
      "Cross Validation Score of  RandomForestRegressor() is [0.9995944  0.99401613 0.98787744 0.80116409 0.95903167]\n",
      "Mean is = 0.9483367468349707 and Standard Deviation is = 0.0749020567056406\n",
      "\n",
      "\n",
      "+++++++++++++++++++++++++++++++++++++++++++++++++++++++++++++++++++++++++++++++++++++++++++++++++++++++++++++++++++\n",
      "Cross Validation Score of  KNeighborsRegressor() is [0.99914358 0.99361186 0.99697788 0.93688376 0.96931811]\n",
      "Mean is = 0.9791870360550881 and Standard Deviation is = 0.02370576072165654\n",
      "\n",
      "\n",
      "+++++++++++++++++++++++++++++++++++++++++++++++++++++++++++++++++++++++++++++++++++++++++++++++++++++++++++++++++++\n",
      "Cross Validation Score of  AdaBoostRegressor() is [-25.36303491 -85.10816852  -1.34809408   0.79811828   0.94345045]\n",
      "Mean is = -22.015545753368848 and Standard Deviation is = 33.065411121082064\n",
      "\n",
      "\n",
      "+++++++++++++++++++++++++++++++++++++++++++++++++++++++++++++++++++++++++++++++++++++++++++++++++++++++++++++++++++\n",
      "Cross Validation Score of  SVR() is [ 0.01719183  0.00886155 -0.00990187 -0.01469611 -0.00806469]\n",
      "Mean is = -0.0013218561712118547 and Standard Deviation is = 0.01220173403441317\n",
      "\n",
      "\n",
      "+++++++++++++++++++++++++++++++++++++++++++++++++++++++++++++++++++++++++++++++++++++++++++++++++++++++++++++++++++\n",
      "Cross Validation Score of  Lasso() is [0.9999999  0.99999972 0.99999997 0.99999998 0.99999997]\n",
      "Mean is = 0.9999999088551051 and Standard Deviation is = 9.738789537181124e-08\n",
      "\n",
      "\n",
      "+++++++++++++++++++++++++++++++++++++++++++++++++++++++++++++++++++++++++++++++++++++++++++++++++++++++++++++++++++\n",
      "Cross Validation Score of  Ridge() is [0.99999999 0.99999993 0.99999998 0.99999998 0.99999995]\n",
      "Mean is = 0.999999965235928 and Standard Deviation is = 2.270272831028535e-08\n",
      "\n",
      "\n",
      "+++++++++++++++++++++++++++++++++++++++++++++++++++++++++++++++++++++++++++++++++++++++++++++++++++++++++++++++++++\n",
      "Cross Validation Score of  ElasticNet() is [0.85555371 0.12669327 0.70728201 0.75864997 0.65043941]\n",
      "Mean is = 0.6197236743102661 and Standard Deviation is = 0.25557981921209544\n",
      "\n",
      "\n",
      "+++++++++++++++++++++++++++++++++++++++++++++++++++++++++++++++++++++++++++++++++++++++++++++++++++++++++++++++++++\n",
      "Cross Validation Score of  XGBRegressor(base_score=0.5, booster='gbtree', colsample_bylevel=1,\n",
      "             colsample_bynode=1, colsample_bytree=1, gamma=0, gpu_id=-1,\n",
      "             importance_type='gain', interaction_constraints='',\n",
      "             learning_rate=0.300000012, max_delta_step=0, max_depth=6,\n",
      "             min_child_weight=1, missing=nan, monotone_constraints='()',\n",
      "             n_estimators=100, n_jobs=4, num_parallel_tree=1, random_state=0,\n",
      "             reg_alpha=0, reg_lambda=1, scale_pos_weight=1, subsample=1,\n",
      "             tree_method='exact', validate_parameters=1, verbosity=None) is [0.99718383 0.97954601 0.98462293 0.59574754 0.93745254]\n",
      "Mean is = 0.898910569685067 and Standard Deviation is = 0.15290495369720286\n",
      "\n",
      "\n",
      "+++++++++++++++++++++++++++++++++++++++++++++++++++++++++++++++++++++++++++++++++++++++++++++++++++++++++++++++++++\n"
     ]
    }
   ],
   "source": [
    "i=[DecisionTreeRegressor(), RandomForestRegressor(),KNeighborsRegressor(),AdaBoostRegressor(),SVR(),Lasso(),\n",
    "   Ridge(),ElasticNet(),XGBRegressor()]\n",
    "\n",
    "for i in i:\n",
    "    i.fit(x_train,y_train)\n",
    "    cvs=cross_val_score(i,x,y,cv=5)\n",
    "    print('Cross Validation Score of ',i, 'is',cvs)\n",
    "    print('Mean is =',cvs.mean(),'and Standard Deviation is =',cvs.std())\n",
    "    print('\\n')\n",
    "    print('+++++++++++++++++++++++++++++++++++++++++++++++++++++++++++++++++++++++++++++++++++++++++++++++++++++++++++++++++++')"
   ]
  },
  {
   "cell_type": "markdown",
   "metadata": {},
   "source": [
    "# L1 & L2 REGULARIZATION\n",
    "\n",
    "        L1 = Lasso()\n",
    "        L2 = Ridge()"
   ]
  },
  {
   "cell_type": "code",
   "execution_count": 57,
   "metadata": {},
   "outputs": [
    {
     "name": "stdout",
     "output_type": "stream",
     "text": [
      "{'alpha': 0.0001, 'max_iter': 2000, 'random_state': 0}\n"
     ]
    }
   ],
   "source": [
    "parameters={'alpha':[0.0001,0.001,0.01,0.1,1,10],'random_state':list(range(0,100)),'max_iter': [2000]}\n",
    "ls=Lasso()\n",
    "clf=GridSearchCV(ls,parameters)\n",
    "clf.fit(x_train,y_train)\n",
    "\n",
    "print(clf.best_params_)"
   ]
  },
  {
   "cell_type": "code",
   "execution_count": 58,
   "metadata": {},
   "outputs": [
    {
     "data": {
      "text/plain": [
       "0.9999999942612839"
      ]
     },
     "execution_count": 58,
     "metadata": {},
     "output_type": "execute_result"
    }
   ],
   "source": [
    "ls = Lasso(alpha=0.0001,random_state=0,max_iter=2000)\n",
    "ls.fit(x_train,y_train)\n",
    "ls.score(x_train,y_train)"
   ]
  },
  {
   "cell_type": "code",
   "execution_count": 59,
   "metadata": {},
   "outputs": [
    {
     "name": "stdout",
     "output_type": "stream",
     "text": [
      "{'alpha': 0.0001, 'random_state': 40}\n"
     ]
    }
   ],
   "source": [
    "parameters={'alpha':[0.0001,0.001,0.01,0.1,1,10],'random_state':list(range(40,100))}\n",
    "rg=Ridge()\n",
    "clf=GridSearchCV(rg,parameters)\n",
    "clf.fit(x_train,y_train)\n",
    "\n",
    "print(clf.best_params_)"
   ]
  },
  {
   "cell_type": "code",
   "execution_count": 60,
   "metadata": {},
   "outputs": [
    {
     "data": {
      "text/plain": [
       "0.9999999999999999"
      ]
     },
     "execution_count": 60,
     "metadata": {},
     "output_type": "execute_result"
    }
   ],
   "source": [
    "rg = Ridge(alpha=0.0001,random_state=40)\n",
    "rg.fit(x_train,y_train)\n",
    "rg.score(x_train,y_train)"
   ]
  },
  {
   "cell_type": "markdown",
   "metadata": {},
   "source": [
    "# HYPER-PARAMETER TUNING BY GridSearchCV"
   ]
  },
  {
   "cell_type": "code",
   "execution_count": 61,
   "metadata": {},
   "outputs": [
    {
     "data": {
      "text/plain": [
       "0.8477112763311739"
      ]
     },
     "execution_count": 61,
     "metadata": {},
     "output_type": "execute_result"
    }
   ],
   "source": [
    "from sklearn.model_selection import GridSearchCV\n",
    "\n",
    "svc=SVR()\n",
    "\n",
    "svcpara={ \n",
    "    \"kernel\" :['linear','poly','rbf'],\n",
    "    'C':[3.0]\n",
    "}\n",
    "\n",
    "svcgrid=GridSearchCV(svc,param_grid=svcpara,cv=10,n_jobs=-1)\n",
    "\n",
    "svcgrid.fit(x_train,y_train)\n",
    "svcgrid.best_score_"
   ]
  },
  {
   "cell_type": "code",
   "execution_count": 62,
   "metadata": {},
   "outputs": [
    {
     "data": {
      "text/plain": [
       "0.9925217659184031"
      ]
     },
     "execution_count": 62,
     "metadata": {},
     "output_type": "execute_result"
    }
   ],
   "source": [
    "dtc=DecisionTreeRegressor()\n",
    "\n",
    "dtcpara={\n",
    "    \n",
    "    \"criterion\": [\"friedman_mse\", \"mae\"],\n",
    "    \"max_depth\":[1,2,3,4,5,6,7,8,9]\n",
    "}\n",
    "\n",
    "dtcgrid=GridSearchCV(dtc,param_grid=dtcpara,cv=10,n_jobs=-1)\n",
    "\n",
    "dtcgrid.fit(x_train,y_train)\n",
    "dtcgrid.best_score_"
   ]
  },
  {
   "cell_type": "code",
   "execution_count": 63,
   "metadata": {},
   "outputs": [
    {
     "data": {
      "text/plain": [
       "0.995938899396965"
      ]
     },
     "execution_count": 63,
     "metadata": {},
     "output_type": "execute_result"
    }
   ],
   "source": [
    "rfr=RandomForestRegressor()\n",
    "\n",
    "rfrpara={\n",
    "    \n",
    "    \"n_estimators\": [200,300],\n",
    "    \"max_depth\":[8],\n",
    "    'random_state':[50]\n",
    "}\n",
    "\n",
    "rfrgrid=GridSearchCV(rfr,param_grid=rfrpara,cv=10,n_jobs=-1)\n",
    "\n",
    "rfrgrid.fit(x_train,y_train)\n",
    "rfrgrid.best_score_"
   ]
  },
  {
   "cell_type": "code",
   "execution_count": 64,
   "metadata": {},
   "outputs": [
    {
     "data": {
      "text/plain": [
       "0.9975833314456519"
      ]
     },
     "execution_count": 64,
     "metadata": {},
     "output_type": "execute_result"
    }
   ],
   "source": [
    "XGB=XGBRegressor()\n",
    "\n",
    "xgbpara={\n",
    "    \n",
    "    \"n_estimators\": [200],\n",
    "    \"max_depth\":[8],\n",
    "    'booster':['gbtree']\n",
    "}\n",
    "\n",
    "xgbgrid=GridSearchCV(XGB,param_grid=xgbpara,n_jobs=-1)\n",
    "\n",
    "xgbgrid.fit(x_train,y_train)\n",
    "xgbgrid.best_score_"
   ]
  },
  {
   "cell_type": "markdown",
   "metadata": {},
   "source": [
    "From the above models we can see that Ridge Regression is giving 99.99% accuracy. So we will use Ridge Model for producion."
   ]
  },
  {
   "cell_type": "code",
   "execution_count": 65,
   "metadata": {},
   "outputs": [
    {
     "data": {
      "text/html": [
       "<div>\n",
       "<style scoped>\n",
       "    .dataframe tbody tr th:only-of-type {\n",
       "        vertical-align: middle;\n",
       "    }\n",
       "\n",
       "    .dataframe tbody tr th {\n",
       "        vertical-align: top;\n",
       "    }\n",
       "\n",
       "    .dataframe thead th {\n",
       "        text-align: right;\n",
       "    }\n",
       "</style>\n",
       "<table border=\"1\" class=\"dataframe\">\n",
       "  <thead>\n",
       "    <tr style=\"text-align: right;\">\n",
       "      <th></th>\n",
       "      <th>Original</th>\n",
       "      <th>Predicted</th>\n",
       "    </tr>\n",
       "  </thead>\n",
       "  <tbody>\n",
       "    <tr>\n",
       "      <th>0</th>\n",
       "      <td>87941</td>\n",
       "      <td>87940</td>\n",
       "    </tr>\n",
       "    <tr>\n",
       "      <th>1</th>\n",
       "      <td>0</td>\n",
       "      <td>0</td>\n",
       "    </tr>\n",
       "    <tr>\n",
       "      <th>2</th>\n",
       "      <td>0</td>\n",
       "      <td>0</td>\n",
       "    </tr>\n",
       "    <tr>\n",
       "      <th>3</th>\n",
       "      <td>17192</td>\n",
       "      <td>17191</td>\n",
       "    </tr>\n",
       "    <tr>\n",
       "      <th>4</th>\n",
       "      <td>0</td>\n",
       "      <td>0</td>\n",
       "    </tr>\n",
       "    <tr>\n",
       "      <th>...</th>\n",
       "      <td>...</td>\n",
       "      <td>...</td>\n",
       "    </tr>\n",
       "    <tr>\n",
       "      <th>4733</th>\n",
       "      <td>96</td>\n",
       "      <td>95</td>\n",
       "    </tr>\n",
       "    <tr>\n",
       "      <th>4734</th>\n",
       "      <td>-1076</td>\n",
       "      <td>-1076</td>\n",
       "    </tr>\n",
       "    <tr>\n",
       "      <th>4735</th>\n",
       "      <td>0</td>\n",
       "      <td>0</td>\n",
       "    </tr>\n",
       "    <tr>\n",
       "      <th>4736</th>\n",
       "      <td>27</td>\n",
       "      <td>26</td>\n",
       "    </tr>\n",
       "    <tr>\n",
       "      <th>4737</th>\n",
       "      <td>-124</td>\n",
       "      <td>-124</td>\n",
       "    </tr>\n",
       "  </tbody>\n",
       "</table>\n",
       "<p>4738 rows × 2 columns</p>\n",
       "</div>"
      ],
      "text/plain": [
       "      Original  Predicted\n",
       "0        87941      87940\n",
       "1            0          0\n",
       "2            0          0\n",
       "3        17192      17191\n",
       "4            0          0\n",
       "...        ...        ...\n",
       "4733        96         95\n",
       "4734     -1076      -1076\n",
       "4735         0          0\n",
       "4736        27         26\n",
       "4737      -124       -124\n",
       "\n",
       "[4738 rows x 2 columns]"
      ]
     },
     "execution_count": 65,
     "metadata": {},
     "output_type": "execute_result"
    }
   ],
   "source": [
    "modelpred=np.array(y_test)\n",
    "\n",
    "predicted=np.array(lr.predict(x_test)).astype(int)\n",
    "\n",
    "final=pd.DataFrame({\"Original\" :modelpred, \"Predicted\" :predicted },index=range(len(modelpred)))\n",
    "\n",
    "final"
   ]
  },
  {
   "cell_type": "code",
   "execution_count": 66,
   "metadata": {},
   "outputs": [],
   "source": [
    "import joblib"
   ]
  },
  {
   "cell_type": "code",
   "execution_count": 68,
   "metadata": {},
   "outputs": [
    {
     "data": {
      "text/plain": [
       "['Covid 19.obj']"
      ]
     },
     "execution_count": 68,
     "metadata": {},
     "output_type": "execute_result"
    }
   ],
   "source": [
    "joblib.dump(rg,'Covid 19.obj')"
   ]
  }
 ],
 "metadata": {
  "kernelspec": {
   "display_name": "Python 3",
   "language": "python",
   "name": "python3"
  },
  "language_info": {
   "codemirror_mode": {
    "name": "ipython",
    "version": 3
   },
   "file_extension": ".py",
   "mimetype": "text/x-python",
   "name": "python",
   "nbconvert_exporter": "python",
   "pygments_lexer": "ipython3",
   "version": "3.8.5"
  }
 },
 "nbformat": 4,
 "nbformat_minor": 4
}
